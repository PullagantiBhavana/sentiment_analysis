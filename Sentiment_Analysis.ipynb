{
  "nbformat": 4,
  "nbformat_minor": 0,
  "metadata": {
    "colab": {
      "provenance": [],
      "authorship_tag": "ABX9TyMJNunNnalFlYAQhmKTjQJ8",
      "include_colab_link": true
    },
    "kernelspec": {
      "name": "python3",
      "display_name": "Python 3"
    },
    "language_info": {
      "name": "python"
    }
  },
  "cells": [
    {
      "cell_type": "markdown",
      "metadata": {
        "id": "view-in-github",
        "colab_type": "text"
      },
      "source": [
        "<a href=\"https://colab.research.google.com/github/Pullaganti-Sailaja/SuperstoreAnalysis/blob/main/Sentiment_Analysis.ipynb\" target=\"_parent\"><img src=\"https://colab.research.google.com/assets/colab-badge.svg\" alt=\"Open In Colab\"/></a>"
      ]
    },
    {
      "cell_type": "code",
      "execution_count": 1,
      "metadata": {
        "id": "P3egyVMa2klO"
      },
      "outputs": [],
      "source": [
        "import numpy as np\n",
        "import pandas as pd\n",
        "import warnings\n",
        "warnings.filterwarnings('ignore')\n"
      ]
    },
    {
      "cell_type": "code",
      "source": [
        "data = pd.read_csv(\"Restaurant_Reviews.tsv\",delimiter=\"\\t\",quoting=3)\n",
        "data.head(10)"
      ],
      "metadata": {
        "colab": {
          "base_uri": "https://localhost:8080/",
          "height": 363
        },
        "id": "1sgTB3MC2vfu",
        "outputId": "bbc7d183-4f28-484f-dc90-41f8e13f10a1"
      },
      "execution_count": 2,
      "outputs": [
        {
          "output_type": "execute_result",
          "data": {
            "text/plain": [
              "                                              Review  Liked\n",
              "0                           Wow... Loved this place.      1\n",
              "1                                 Crust is not good.      0\n",
              "2          Not tasty and the texture was just nasty.      0\n",
              "3  Stopped by during the late May bank holiday of...      1\n",
              "4  The selection on the menu was great and so wer...      1\n",
              "5     Now I am getting angry and I want my damn pho.      0\n",
              "6              Honeslty it didn't taste THAT fresh.)      0\n",
              "7  The potatoes were like rubber and you could te...      0\n",
              "8                          The fries were great too.      1\n",
              "9                                     A great touch.      1"
            ],
            "text/html": [
              "\n",
              "  <div id=\"df-ddb17819-2832-4bd6-89a6-9c59fe3d7e71\" class=\"colab-df-container\">\n",
              "    <div>\n",
              "<style scoped>\n",
              "    .dataframe tbody tr th:only-of-type {\n",
              "        vertical-align: middle;\n",
              "    }\n",
              "\n",
              "    .dataframe tbody tr th {\n",
              "        vertical-align: top;\n",
              "    }\n",
              "\n",
              "    .dataframe thead th {\n",
              "        text-align: right;\n",
              "    }\n",
              "</style>\n",
              "<table border=\"1\" class=\"dataframe\">\n",
              "  <thead>\n",
              "    <tr style=\"text-align: right;\">\n",
              "      <th></th>\n",
              "      <th>Review</th>\n",
              "      <th>Liked</th>\n",
              "    </tr>\n",
              "  </thead>\n",
              "  <tbody>\n",
              "    <tr>\n",
              "      <th>0</th>\n",
              "      <td>Wow... Loved this place.</td>\n",
              "      <td>1</td>\n",
              "    </tr>\n",
              "    <tr>\n",
              "      <th>1</th>\n",
              "      <td>Crust is not good.</td>\n",
              "      <td>0</td>\n",
              "    </tr>\n",
              "    <tr>\n",
              "      <th>2</th>\n",
              "      <td>Not tasty and the texture was just nasty.</td>\n",
              "      <td>0</td>\n",
              "    </tr>\n",
              "    <tr>\n",
              "      <th>3</th>\n",
              "      <td>Stopped by during the late May bank holiday of...</td>\n",
              "      <td>1</td>\n",
              "    </tr>\n",
              "    <tr>\n",
              "      <th>4</th>\n",
              "      <td>The selection on the menu was great and so wer...</td>\n",
              "      <td>1</td>\n",
              "    </tr>\n",
              "    <tr>\n",
              "      <th>5</th>\n",
              "      <td>Now I am getting angry and I want my damn pho.</td>\n",
              "      <td>0</td>\n",
              "    </tr>\n",
              "    <tr>\n",
              "      <th>6</th>\n",
              "      <td>Honeslty it didn't taste THAT fresh.)</td>\n",
              "      <td>0</td>\n",
              "    </tr>\n",
              "    <tr>\n",
              "      <th>7</th>\n",
              "      <td>The potatoes were like rubber and you could te...</td>\n",
              "      <td>0</td>\n",
              "    </tr>\n",
              "    <tr>\n",
              "      <th>8</th>\n",
              "      <td>The fries were great too.</td>\n",
              "      <td>1</td>\n",
              "    </tr>\n",
              "    <tr>\n",
              "      <th>9</th>\n",
              "      <td>A great touch.</td>\n",
              "      <td>1</td>\n",
              "    </tr>\n",
              "  </tbody>\n",
              "</table>\n",
              "</div>\n",
              "    <div class=\"colab-df-buttons\">\n",
              "\n",
              "  <div class=\"colab-df-container\">\n",
              "    <button class=\"colab-df-convert\" onclick=\"convertToInteractive('df-ddb17819-2832-4bd6-89a6-9c59fe3d7e71')\"\n",
              "            title=\"Convert this dataframe to an interactive table.\"\n",
              "            style=\"display:none;\">\n",
              "\n",
              "  <svg xmlns=\"http://www.w3.org/2000/svg\" height=\"24px\" viewBox=\"0 -960 960 960\">\n",
              "    <path d=\"M120-120v-720h720v720H120Zm60-500h600v-160H180v160Zm220 220h160v-160H400v160Zm0 220h160v-160H400v160ZM180-400h160v-160H180v160Zm440 0h160v-160H620v160ZM180-180h160v-160H180v160Zm440 0h160v-160H620v160Z\"/>\n",
              "  </svg>\n",
              "    </button>\n",
              "\n",
              "  <style>\n",
              "    .colab-df-container {\n",
              "      display:flex;\n",
              "      gap: 12px;\n",
              "    }\n",
              "\n",
              "    .colab-df-convert {\n",
              "      background-color: #E8F0FE;\n",
              "      border: none;\n",
              "      border-radius: 50%;\n",
              "      cursor: pointer;\n",
              "      display: none;\n",
              "      fill: #1967D2;\n",
              "      height: 32px;\n",
              "      padding: 0 0 0 0;\n",
              "      width: 32px;\n",
              "    }\n",
              "\n",
              "    .colab-df-convert:hover {\n",
              "      background-color: #E2EBFA;\n",
              "      box-shadow: 0px 1px 2px rgba(60, 64, 67, 0.3), 0px 1px 3px 1px rgba(60, 64, 67, 0.15);\n",
              "      fill: #174EA6;\n",
              "    }\n",
              "\n",
              "    .colab-df-buttons div {\n",
              "      margin-bottom: 4px;\n",
              "    }\n",
              "\n",
              "    [theme=dark] .colab-df-convert {\n",
              "      background-color: #3B4455;\n",
              "      fill: #D2E3FC;\n",
              "    }\n",
              "\n",
              "    [theme=dark] .colab-df-convert:hover {\n",
              "      background-color: #434B5C;\n",
              "      box-shadow: 0px 1px 3px 1px rgba(0, 0, 0, 0.15);\n",
              "      filter: drop-shadow(0px 1px 2px rgba(0, 0, 0, 0.3));\n",
              "      fill: #FFFFFF;\n",
              "    }\n",
              "  </style>\n",
              "\n",
              "    <script>\n",
              "      const buttonEl =\n",
              "        document.querySelector('#df-ddb17819-2832-4bd6-89a6-9c59fe3d7e71 button.colab-df-convert');\n",
              "      buttonEl.style.display =\n",
              "        google.colab.kernel.accessAllowed ? 'block' : 'none';\n",
              "\n",
              "      async function convertToInteractive(key) {\n",
              "        const element = document.querySelector('#df-ddb17819-2832-4bd6-89a6-9c59fe3d7e71');\n",
              "        const dataTable =\n",
              "          await google.colab.kernel.invokeFunction('convertToInteractive',\n",
              "                                                    [key], {});\n",
              "        if (!dataTable) return;\n",
              "\n",
              "        const docLinkHtml = 'Like what you see? Visit the ' +\n",
              "          '<a target=\"_blank\" href=https://colab.research.google.com/notebooks/data_table.ipynb>data table notebook</a>'\n",
              "          + ' to learn more about interactive tables.';\n",
              "        element.innerHTML = '';\n",
              "        dataTable['output_type'] = 'display_data';\n",
              "        await google.colab.output.renderOutput(dataTable, element);\n",
              "        const docLink = document.createElement('div');\n",
              "        docLink.innerHTML = docLinkHtml;\n",
              "        element.appendChild(docLink);\n",
              "      }\n",
              "    </script>\n",
              "  </div>\n",
              "\n",
              "\n",
              "<div id=\"df-4faed915-eea5-4de9-900a-f2a870d0ff9e\">\n",
              "  <button class=\"colab-df-quickchart\" onclick=\"quickchart('df-4faed915-eea5-4de9-900a-f2a870d0ff9e')\"\n",
              "            title=\"Suggest charts\"\n",
              "            style=\"display:none;\">\n",
              "\n",
              "<svg xmlns=\"http://www.w3.org/2000/svg\" height=\"24px\"viewBox=\"0 0 24 24\"\n",
              "     width=\"24px\">\n",
              "    <g>\n",
              "        <path d=\"M19 3H5c-1.1 0-2 .9-2 2v14c0 1.1.9 2 2 2h14c1.1 0 2-.9 2-2V5c0-1.1-.9-2-2-2zM9 17H7v-7h2v7zm4 0h-2V7h2v10zm4 0h-2v-4h2v4z\"/>\n",
              "    </g>\n",
              "</svg>\n",
              "  </button>\n",
              "\n",
              "<style>\n",
              "  .colab-df-quickchart {\n",
              "      --bg-color: #E8F0FE;\n",
              "      --fill-color: #1967D2;\n",
              "      --hover-bg-color: #E2EBFA;\n",
              "      --hover-fill-color: #174EA6;\n",
              "      --disabled-fill-color: #AAA;\n",
              "      --disabled-bg-color: #DDD;\n",
              "  }\n",
              "\n",
              "  [theme=dark] .colab-df-quickchart {\n",
              "      --bg-color: #3B4455;\n",
              "      --fill-color: #D2E3FC;\n",
              "      --hover-bg-color: #434B5C;\n",
              "      --hover-fill-color: #FFFFFF;\n",
              "      --disabled-bg-color: #3B4455;\n",
              "      --disabled-fill-color: #666;\n",
              "  }\n",
              "\n",
              "  .colab-df-quickchart {\n",
              "    background-color: var(--bg-color);\n",
              "    border: none;\n",
              "    border-radius: 50%;\n",
              "    cursor: pointer;\n",
              "    display: none;\n",
              "    fill: var(--fill-color);\n",
              "    height: 32px;\n",
              "    padding: 0;\n",
              "    width: 32px;\n",
              "  }\n",
              "\n",
              "  .colab-df-quickchart:hover {\n",
              "    background-color: var(--hover-bg-color);\n",
              "    box-shadow: 0 1px 2px rgba(60, 64, 67, 0.3), 0 1px 3px 1px rgba(60, 64, 67, 0.15);\n",
              "    fill: var(--button-hover-fill-color);\n",
              "  }\n",
              "\n",
              "  .colab-df-quickchart-complete:disabled,\n",
              "  .colab-df-quickchart-complete:disabled:hover {\n",
              "    background-color: var(--disabled-bg-color);\n",
              "    fill: var(--disabled-fill-color);\n",
              "    box-shadow: none;\n",
              "  }\n",
              "\n",
              "  .colab-df-spinner {\n",
              "    border: 2px solid var(--fill-color);\n",
              "    border-color: transparent;\n",
              "    border-bottom-color: var(--fill-color);\n",
              "    animation:\n",
              "      spin 1s steps(1) infinite;\n",
              "  }\n",
              "\n",
              "  @keyframes spin {\n",
              "    0% {\n",
              "      border-color: transparent;\n",
              "      border-bottom-color: var(--fill-color);\n",
              "      border-left-color: var(--fill-color);\n",
              "    }\n",
              "    20% {\n",
              "      border-color: transparent;\n",
              "      border-left-color: var(--fill-color);\n",
              "      border-top-color: var(--fill-color);\n",
              "    }\n",
              "    30% {\n",
              "      border-color: transparent;\n",
              "      border-left-color: var(--fill-color);\n",
              "      border-top-color: var(--fill-color);\n",
              "      border-right-color: var(--fill-color);\n",
              "    }\n",
              "    40% {\n",
              "      border-color: transparent;\n",
              "      border-right-color: var(--fill-color);\n",
              "      border-top-color: var(--fill-color);\n",
              "    }\n",
              "    60% {\n",
              "      border-color: transparent;\n",
              "      border-right-color: var(--fill-color);\n",
              "    }\n",
              "    80% {\n",
              "      border-color: transparent;\n",
              "      border-right-color: var(--fill-color);\n",
              "      border-bottom-color: var(--fill-color);\n",
              "    }\n",
              "    90% {\n",
              "      border-color: transparent;\n",
              "      border-bottom-color: var(--fill-color);\n",
              "    }\n",
              "  }\n",
              "</style>\n",
              "\n",
              "  <script>\n",
              "    async function quickchart(key) {\n",
              "      const quickchartButtonEl =\n",
              "        document.querySelector('#' + key + ' button');\n",
              "      quickchartButtonEl.disabled = true;  // To prevent multiple clicks.\n",
              "      quickchartButtonEl.classList.add('colab-df-spinner');\n",
              "      try {\n",
              "        const charts = await google.colab.kernel.invokeFunction(\n",
              "            'suggestCharts', [key], {});\n",
              "      } catch (error) {\n",
              "        console.error('Error during call to suggestCharts:', error);\n",
              "      }\n",
              "      quickchartButtonEl.classList.remove('colab-df-spinner');\n",
              "      quickchartButtonEl.classList.add('colab-df-quickchart-complete');\n",
              "    }\n",
              "    (() => {\n",
              "      let quickchartButtonEl =\n",
              "        document.querySelector('#df-4faed915-eea5-4de9-900a-f2a870d0ff9e button');\n",
              "      quickchartButtonEl.style.display =\n",
              "        google.colab.kernel.accessAllowed ? 'block' : 'none';\n",
              "    })();\n",
              "  </script>\n",
              "</div>\n",
              "\n",
              "    </div>\n",
              "  </div>\n"
            ]
          },
          "metadata": {},
          "execution_count": 2
        }
      ]
    },
    {
      "cell_type": "code",
      "source": [
        "import nltk\n",
        "import re\n",
        "nltk.download('stopwords')\n",
        "from nltk.corpus import stopwords\n",
        "from nltk.stem.porter import PorterStemmer as ps\n"
      ],
      "metadata": {
        "colab": {
          "base_uri": "https://localhost:8080/"
        },
        "id": "AbS4g1Pr3d3O",
        "outputId": "14385be5-d0c7-4774-e90f-9844ba107829"
      },
      "execution_count": 3,
      "outputs": [
        {
          "output_type": "stream",
          "name": "stderr",
          "text": [
            "[nltk_data] Downloading package stopwords to /root/nltk_data...\n",
            "[nltk_data]   Unzipping corpora/stopwords.zip.\n"
          ]
        }
      ]
    },
    {
      "cell_type": "code",
      "source": [
        "corpus = []\n",
        "\n",
        "for i in range(0,1000):\n",
        "\n",
        "  review = re.sub(pattern='[^a-zA-Z]',repl=' ',string=data['Review'][i])\n",
        "  review = review.lower()\n",
        "  review_words = review.split()\n",
        "  review_words = [ word for word in review_words if not word in set(stopwords.words('english'))]\n",
        "  review = [ps().stem(word) for word in review_words]\n",
        "  review = ' '.join(review)\n",
        "  corpus.append(review)\n",
        "\n",
        "corpus[:1000]\n"
      ],
      "metadata": {
        "colab": {
          "base_uri": "https://localhost:8080/"
        },
        "id": "LsidLKsq3maW",
        "outputId": "35a5ba5d-d433-41bf-e159-576e1df25d3d"
      },
      "execution_count": 4,
      "outputs": [
        {
          "output_type": "execute_result",
          "data": {
            "text/plain": [
              "['wow love place',\n",
              " 'crust good',\n",
              " 'tasti textur nasti',\n",
              " 'stop late may bank holiday rick steve recommend love',\n",
              " 'select menu great price',\n",
              " 'get angri want damn pho',\n",
              " 'honeslti tast fresh',\n",
              " 'potato like rubber could tell made ahead time kept warmer',\n",
              " 'fri great',\n",
              " 'great touch',\n",
              " 'servic prompt',\n",
              " 'would go back',\n",
              " 'cashier care ever say still end wayyy overpr',\n",
              " 'tri cape cod ravoli chicken cranberri mmmm',\n",
              " 'disgust pretti sure human hair',\n",
              " 'shock sign indic cash',\n",
              " 'highli recommend',\n",
              " 'waitress littl slow servic',\n",
              " 'place worth time let alon vega',\n",
              " 'like',\n",
              " 'burritto blah',\n",
              " 'food amaz',\n",
              " 'servic also cute',\n",
              " 'could care less interior beauti',\n",
              " 'perform',\n",
              " 'right red velvet cake ohhh stuff good',\n",
              " 'never brought salad ask',\n",
              " 'hole wall great mexican street taco friendli staff',\n",
              " 'took hour get food tabl restaur food luke warm sever run around like total overwhelm',\n",
              " 'worst salmon sashimi',\n",
              " 'also combo like burger fri beer decent deal',\n",
              " 'like final blow',\n",
              " 'found place accid could happier',\n",
              " 'seem like good quick place grab bite familiar pub food favor look elsewher',\n",
              " 'overal like place lot',\n",
              " 'redeem qualiti restaur inexpens',\n",
              " 'ampl portion good price',\n",
              " 'poor servic waiter made feel like stupid everi time came tabl',\n",
              " 'first visit hiro delight',\n",
              " 'servic suck',\n",
              " 'shrimp tender moist',\n",
              " 'deal good enough would drag establish',\n",
              " 'hard judg whether side good gross melt styrofoam want eat fear get sick',\n",
              " 'posit note server attent provid great servic',\n",
              " 'frozen puck disgust worst peopl behind regist',\n",
              " 'thing like prime rib dessert section',\n",
              " 'bad food damn gener',\n",
              " 'burger good beef cook right',\n",
              " 'want sandwich go firehous',\n",
              " 'side greek salad greek dress tasti pita hummu refresh',\n",
              " 'order duck rare pink tender insid nice char outsid',\n",
              " 'came run us realiz husband left sunglass tabl',\n",
              " 'chow mein good',\n",
              " 'horribl attitud toward custom talk one custom enjoy food',\n",
              " 'portion huge',\n",
              " 'love friendli server great food wonder imagin menu',\n",
              " 'heart attack grill downtown vega absolut flat line excus restaur',\n",
              " 'much seafood like string pasta bottom',\n",
              " 'salad right amount sauc power scallop perfectli cook',\n",
              " 'rip banana rip petrifi tasteless',\n",
              " 'least think refil water struggl wave minut',\n",
              " 'place receiv star appet',\n",
              " 'cocktail handmad delici',\n",
              " 'definit go back',\n",
              " 'glad found place',\n",
              " 'great food servic huge portion give militari discount',\n",
              " 'alway great time do gringo',\n",
              " 'updat went back second time still amaz',\n",
              " 'got food appar never heard salt batter fish chewi',\n",
              " 'great way finish great',\n",
              " 'deal includ tast drink jeff went beyond expect',\n",
              " 'realli realli good rice time',\n",
              " 'servic meh',\n",
              " 'took min get milkshak noth chocol milk',\n",
              " 'guess known place would suck insid excalibur use common sens',\n",
              " 'scallop dish quit appal valu well',\n",
              " 'time bad custom servic',\n",
              " 'sweet potato fri good season well',\n",
              " 'today second time lunch buffet pretti good',\n",
              " 'much good food vega feel cheat wast eat opportun go rice compani',\n",
              " 'come like experienc underwhelm relationship parti wait person ask break',\n",
              " 'walk place smell like old greas trap other eat',\n",
              " 'turkey roast beef bland',\n",
              " 'place',\n",
              " 'pan cake everyon rave tast like sugari disast tailor palat six year old',\n",
              " 'love pho spring roll oh yummi tri',\n",
              " 'poor batter meat ratio made chicken tender unsatisfi',\n",
              " 'say food amaz',\n",
              " 'omelet die',\n",
              " 'everyth fresh delici',\n",
              " 'summari larg disappoint dine experi',\n",
              " 'like realli sexi parti mouth outrag flirt hottest person parti',\n",
              " 'never hard rock casino never ever step forward',\n",
              " 'best breakfast buffet',\n",
              " 'say bye bye tip ladi',\n",
              " 'never go',\n",
              " 'back',\n",
              " 'food arriv quickli',\n",
              " 'good',\n",
              " 'side cafe serv realli good food',\n",
              " 'server fantast found wife love roast garlic bone marrow ad extra meal anoth marrow go',\n",
              " 'good thing waiter help kept bloddi mari come',\n",
              " 'best buffet town price cannot beat',\n",
              " 'love mussel cook wine reduct duck tender potato dish delici',\n",
              " 'one better buffet',\n",
              " 'went tigerlilli fantast afternoon',\n",
              " 'food delici bartend attent person got great deal',\n",
              " 'ambienc wonder music play',\n",
              " 'go back next trip',\n",
              " 'sooooo good',\n",
              " 'real sushi lover let honest yama good',\n",
              " 'least min pass us order food arriv busi',\n",
              " 'realli fantast thai restaur definit worth visit',\n",
              " 'nice spici tender',\n",
              " 'good price',\n",
              " 'check',\n",
              " 'pretti gross',\n",
              " 'better atmospher',\n",
              " 'kind hard mess steak',\n",
              " 'although much like look sound place actual experi bit disappoint',\n",
              " 'know place manag serv blandest food ever eaten prepar indian cuisin',\n",
              " 'worst servic boot least worri',\n",
              " 'servic fine waitress friendli',\n",
              " 'guy steak steak love son steak best worst place said best steak ever eaten',\n",
              " 'thought ventur away get good sushi place realli hit spot night',\n",
              " 'host staff lack better word bitch',\n",
              " 'bland like place number reason want wast time bad review leav',\n",
              " 'phenomen food servic ambianc',\n",
              " 'return',\n",
              " 'definit worth ventur strip pork belli return next time vega',\n",
              " 'place way overpr mediocr food',\n",
              " 'penn vodka excel',\n",
              " 'good select food includ massiv meatloaf sandwich crispi chicken wrap delish tuna melt tasti burger',\n",
              " 'manag rude',\n",
              " 'delici nyc bagel good select cream chees real lox caper even',\n",
              " 'great subway fact good come everi subway meet expect',\n",
              " 'serious solid breakfast',\n",
              " 'one best bar food vega',\n",
              " 'extrem rude realli mani restaur would love dine weekend vega',\n",
              " 'drink never empti made realli great menu suggest',\n",
              " '',\n",
              " 'waiter help friendli rare check us',\n",
              " 'husband ate lunch disappoint food servic',\n",
              " 'red curri much bamboo shoot tasti',\n",
              " 'nice blanket moz top feel like done cover subpar food',\n",
              " 'bathroom clean place well decor',\n",
              " 'menu alway chang food qualiti go servic extrem slow',\n",
              " 'servic littl slow consid serv peopl server food come slow pace',\n",
              " 'give thumb',\n",
              " 'watch waiter pay lot attent tabl ignor us',\n",
              " 'fianc came middl day greet seat right away',\n",
              " 'great restaur mandalay bay',\n",
              " 'wait forti five minut vain',\n",
              " 'crostini came salad stale',\n",
              " 'highlight great qualiti nigiri',\n",
              " 'staff friendli joint alway clean',\n",
              " 'differ cut piec day still wonder tender well well flavor',\n",
              " 'order voodoo pasta first time realli excel pasta sinc go gluten free sever year ago',\n",
              " 'place good',\n",
              " 'unfortun must hit bakeri leftov day everyth order stale',\n",
              " 'came back today sinc reloc still impress',\n",
              " 'seat immedi',\n",
              " 'menu divers reason price',\n",
              " 'avoid cost',\n",
              " 'restaur alway full never wait',\n",
              " 'delici',\n",
              " 'place hand one best place eat phoenix metro area',\n",
              " 'go look good food',\n",
              " 'never treat bad',\n",
              " 'bacon hella salti',\n",
              " 'also order spinach avocado salad ingredi sad dress liter zero tast',\n",
              " 'realli vega fine dine use right menu hand ladi price list',\n",
              " 'waitress friendli',\n",
              " 'lordi khao soi dish miss curri lover',\n",
              " 'everyth menu terrif also thrill made amaz accommod vegetarian daughter',\n",
              " 'perhap caught night judg review inspir go back',\n",
              " 'servic leav lot desir',\n",
              " 'atmospher modern hip maintain touch cozi',\n",
              " 'weekli haunt definit place come back everi',\n",
              " 'liter sat minut one ask take order',\n",
              " 'burger absolut flavor meat total bland burger overcook charcoal flavor',\n",
              " 'also decid send back waitress look like verg heart attack',\n",
              " 'dress treat rude',\n",
              " 'probabl dirt',\n",
              " 'love place hit spot want someth healthi lack quantiti flavor',\n",
              " 'order lemon raspberri ice cocktail also incred',\n",
              " 'food suck expect suck could imagin',\n",
              " 'interest decor',\n",
              " 'realli like crepe station',\n",
              " 'also serv hot bread butter home made potato chip bacon bit top origin good',\n",
              " 'watch prepar delici food',\n",
              " 'egg roll fantast',\n",
              " 'order arriv one gyro miss',\n",
              " 'salad wing ice cream dessert left feel quit satisfi',\n",
              " 'realli sure joey vote best hot dog valley reader phoenix magazin',\n",
              " 'best place go tasti bowl pho',\n",
              " 'live music friday total blow',\n",
              " 'never insult felt disrespect',\n",
              " 'friendli staff',\n",
              " 'worth drive',\n",
              " 'heard good thing place exceed everi hope could dream',\n",
              " 'food great serivc',\n",
              " 'warm beer help',\n",
              " 'great brunch spot',\n",
              " 'servic friendli invit',\n",
              " 'good lunch spot',\n",
              " 'live sinc first last time step foot place',\n",
              " 'worst experi ever',\n",
              " 'must night place',\n",
              " 'side delish mix mushroom yukon gold pure white corn beateou',\n",
              " 'bug never show would given sure side wall bug climb kitchen',\n",
              " 'minut wait salad realiz come time soon',\n",
              " 'friend love salmon tartar',\n",
              " 'go back',\n",
              " 'extrem tasti',\n",
              " 'waitress good though',\n",
              " 'soggi good',\n",
              " 'jamaican mojito delici',\n",
              " 'small worth price',\n",
              " 'food rich order accordingli',\n",
              " 'shower area outsid rins take full shower unless mind nude everyon see',\n",
              " 'servic bit lack',\n",
              " 'lobster bisqu bussel sprout risotto filet need salt pepper cours none tabl',\n",
              " 'hope bode go busi someon cook come',\n",
              " 'either cold enough flavor bad',\n",
              " 'love bacon wrap date',\n",
              " 'unbeliev bargain',\n",
              " 'folk otto alway make us feel welcom special',\n",
              " 'main also uninspir',\n",
              " 'place first pho amaz',\n",
              " 'wonder experi made place must stop whenev town',\n",
              " 'food bad enough enjoy deal world worst annoy drunk peopl',\n",
              " 'fun chef',\n",
              " 'order doubl cheeseburg got singl patti fall apart pictur upload yeah still suck',\n",
              " 'great place coupl drink watch sport event wall cover tv',\n",
              " 'possibl give zero star',\n",
              " 'descript said yum yum sauc anoth said eel sauc yet anoth said spici mayo well none roll sauc',\n",
              " 'say would hardest decis honestli dish tast suppos tast amaz',\n",
              " 'roll eye may stay sure go back tri',\n",
              " 'everyon attent provid excel custom servic',\n",
              " 'horribl wast time money',\n",
              " 'dish quit flavour',\n",
              " 'time side restaur almost empti excus',\n",
              " 'busi either also build freez cold',\n",
              " 'like review said pay eat place',\n",
              " 'drink took close minut come one point',\n",
              " 'serious flavor delight folk',\n",
              " 'much better ayc sushi place went vega',\n",
              " 'light dark enough set mood',\n",
              " 'base sub par servic receiv effort show gratitud busi go back',\n",
              " 'owner realli great peopl',\n",
              " 'noth privileg work eat',\n",
              " 'greek dress creami flavor',\n",
              " 'overal think would take parent place made similar complaint silent felt',\n",
              " 'pizza good peanut sauc tasti',\n",
              " 'tabl servic pretti fast',\n",
              " 'fantast servic',\n",
              " 'well would given godfath zero star possibl',\n",
              " 'know make',\n",
              " 'tough short flavor',\n",
              " 'hope place stick around',\n",
              " 'bar vega ever recal charg tap water',\n",
              " 'restaur atmospher exquisit',\n",
              " 'good servic clean inexpens boot',\n",
              " 'seafood fresh gener portion',\n",
              " 'plu buck',\n",
              " 'servic par either',\n",
              " 'thu far visit twice food absolut delici time',\n",
              " 'good year ago',\n",
              " 'self proclaim coffe cafe wildli disappoint',\n",
              " 'veggitarian platter world',\n",
              " 'cant go wrong food',\n",
              " 'beat',\n",
              " 'stop place madison ironman friendli kind staff',\n",
              " 'chef friendli good job',\n",
              " 'better dedic boba tea spot even jenni pho',\n",
              " 'like patio servic outstand',\n",
              " 'goat taco skimp meat wow flavor',\n",
              " 'think',\n",
              " 'mac salad pretti bland get',\n",
              " 'went bachi burger friend recommend disappoint',\n",
              " 'servic stink',\n",
              " 'wait wait',\n",
              " 'place qualiti sushi qualiti restaur',\n",
              " 'would definit recommend wing well pizza',\n",
              " 'great pizza salad',\n",
              " 'thing went wrong burn saganaki',\n",
              " 'wait hour breakfast could done time better home',\n",
              " 'place amaz',\n",
              " 'hate disagre fellow yelper husband disappoint place',\n",
              " 'wait hour never got either pizza mani around us came later',\n",
              " 'know slow',\n",
              " 'staff great food delish incred beer select',\n",
              " 'live neighborhood disappoint back conveni locat',\n",
              " 'know pull pork could soooo delici',\n",
              " 'get incred fresh fish prepar care',\n",
              " 'go gave star rate pleas know third time eat bachi burger write review',\n",
              " 'love fact everyth menu worth',\n",
              " 'never dine place',\n",
              " 'food excel servic good',\n",
              " 'good beer drink select good food select',\n",
              " 'pleas stay away shrimp stir fri noodl',\n",
              " 'potato chip order sad could probabl count mani chip box probabl around',\n",
              " 'food realli bore',\n",
              " 'good servic check',\n",
              " 'greedi corpor never see anoth dime',\n",
              " 'never ever go back',\n",
              " 'much like go back get pass atroci servic never return',\n",
              " 'summer dine charm outdoor patio delight',\n",
              " 'expect good',\n",
              " 'fantast food',\n",
              " 'order toast english muffin came untoast',\n",
              " 'food good',\n",
              " 'never go back',\n",
              " 'great food price high qualiti hous made',\n",
              " 'bu boy hand rude',\n",
              " 'point friend basic figur place joke mind make publicli loudli known',\n",
              " 'back good bbq lighter fare reason price tell public back old way',\n",
              " 'consid two us left full happi go wrong',\n",
              " 'bread made hous',\n",
              " 'downsid servic',\n",
              " 'also fri without doubt worst fri ever',\n",
              " 'servic except food good review',\n",
              " 'coupl month later return amaz meal',\n",
              " 'favorit place town shawarrrrrrma',\n",
              " 'black eye pea sweet potato unreal',\n",
              " 'disappoint',\n",
              " 'could serv vinaigrett may make better overal dish still good',\n",
              " 'go far mani place never seen restaur serv egg breakfast especi',\n",
              " 'mom got home immedi got sick bite salad',\n",
              " 'server pleasant deal alway honor pizza hut coupon',\n",
              " 'truli unbeliev good glad went back',\n",
              " 'fantast servic pleas atmospher',\n",
              " 'everyth gross',\n",
              " 'love place',\n",
              " 'great servic food',\n",
              " 'first bathroom locat dirti seat cover replenish plain yucki',\n",
              " 'burger got gold standard burger kind disappoint',\n",
              " 'omg food delicioso',\n",
              " 'noth authent place',\n",
              " 'spaghetti noth special whatsoev',\n",
              " 'dish salmon best great',\n",
              " 'veget fresh sauc feel like authent thai',\n",
              " 'worth drive tucson',\n",
              " 'select probabl worst seen vega none',\n",
              " 'pretti good beer select',\n",
              " 'place like chipotl better',\n",
              " 'classi warm atmospher fun fresh appet succul steak basebal steak',\n",
              " 'star brick oven bread app',\n",
              " 'eaten multipl time time food delici',\n",
              " 'sat anoth ten minut final gave left',\n",
              " 'terribl',\n",
              " 'everyon treat equal special',\n",
              " 'take min pancak egg',\n",
              " 'delici',\n",
              " 'good side staff genuin pleasant enthusiast real treat',\n",
              " 'sadli gordon ramsey steak place shall sharpli avoid next trip vega',\n",
              " 'alway even wonder food delici',\n",
              " 'best fish ever life',\n",
              " 'bathroom next door nice',\n",
              " 'buffet small food offer bland',\n",
              " 'outstand littl restaur best food ever tast',\n",
              " 'pretti cool would say',\n",
              " 'definit turn doubt back unless someon els buy',\n",
              " 'server great job handl larg rowdi tabl',\n",
              " 'find wast food despic food',\n",
              " 'wife lobster bisqu soup lukewarm',\n",
              " 'would come back sushi crave vega',\n",
              " 'staff great ambianc great',\n",
              " 'deserv star',\n",
              " 'left stomach ach felt sick rest day',\n",
              " 'drop ball',\n",
              " 'dine space tini elegantli decor comfort',\n",
              " 'custom order way like usual eggplant green bean stir fri love',\n",
              " 'bean rice mediocr best',\n",
              " 'best taco town far',\n",
              " 'took back money got outta',\n",
              " 'interest part town place amaz',\n",
              " 'rude inconsider manag',\n",
              " 'staff friendli wait time serv horribl one even say hi first minut',\n",
              " 'back',\n",
              " 'great dinner',\n",
              " 'servic outshin definit recommend halibut',\n",
              " 'food terribl',\n",
              " 'never ever go back told mani peopl happen',\n",
              " 'recommend unless car break front starv',\n",
              " 'come back everi time vega',\n",
              " 'place deserv one star food',\n",
              " 'disgrac',\n",
              " 'def come back bowl next time',\n",
              " 'want healthi authent ethic food tri place',\n",
              " 'continu come ladi night andddd date night highli recommend place anyon area',\n",
              " 'sever time past experi alway great',\n",
              " 'walk away stuf happi first vega buffet experi',\n",
              " 'servic excel price pretti reason consid vega locat insid crystal shop mall aria',\n",
              " 'summar food incred nay transcend noth bring joy quit like memori pneumat condiment dispens',\n",
              " 'probabl one peopl ever go ian like',\n",
              " 'kid pizza alway hit lot great side dish option kiddo',\n",
              " 'servic perfect famili atmospher nice see',\n",
              " 'cook perfect servic impecc',\n",
              " 'one simpli disappoint',\n",
              " 'overal disappoint qualiti food bouchon',\n",
              " 'account know get screw',\n",
              " 'great place eat remind littl mom pop shop san francisco bay area',\n",
              " 'today first tast buldogi gourmet hot dog tell ever thought possibl',\n",
              " 'left frustrat',\n",
              " 'definit soon',\n",
              " 'food realli good got full petti fast',\n",
              " 'servic fantast',\n",
              " 'total wast time',\n",
              " 'know kind best ice tea',\n",
              " 'come hungri leav happi stuf',\n",
              " 'servic give star',\n",
              " 'assur disappoint',\n",
              " 'take littl bad servic food suck',\n",
              " 'gave tri eat crust teeth still sore',\n",
              " 'complet gross',\n",
              " 'realli enjoy eat',\n",
              " 'first time go think quickli becom regular',\n",
              " 'server nice even though look littl overwhelm need stay profession friendli end',\n",
              " 'dinner companion told everyth fresh nice textur tast',\n",
              " 'ground right next tabl larg smear step track everywher pile green bird poop',\n",
              " 'furthermor even find hour oper websit',\n",
              " 'tri like place time think done',\n",
              " 'mistak',\n",
              " 'complaint',\n",
              " 'serious good pizza expert connisseur topic',\n",
              " 'waiter jerk',\n",
              " 'strike want rush',\n",
              " 'nicest restaur owner ever come across',\n",
              " 'never come',\n",
              " 'love biscuit',\n",
              " 'servic quick friendli',\n",
              " 'order appet took minut pizza anoth minut',\n",
              " 'absolutley fantast',\n",
              " 'huge awkward lb piec cow th gristl fat',\n",
              " 'definit come back',\n",
              " 'like steiner dark feel like bar',\n",
              " 'wow spici delici',\n",
              " 'familiar check',\n",
              " 'take busi dinner dollar elsewher',\n",
              " 'love go back',\n",
              " 'anyway fs restaur wonder breakfast lunch',\n",
              " 'noth special',\n",
              " 'day week differ deal delici',\n",
              " 'mention combin pear almond bacon big winner',\n",
              " 'back',\n",
              " 'sauc tasteless',\n",
              " 'food delici spici enough sure ask spicier prefer way',\n",
              " 'ribey steak cook perfectli great mesquit flavor',\n",
              " 'think go back anytim soon',\n",
              " 'food gooodd',\n",
              " 'far sushi connoisseur definit tell differ good food bad food certainli bad food',\n",
              " 'insult',\n",
              " 'last time lunch bad',\n",
              " 'chicken wing contain driest chicken meat ever eaten',\n",
              " 'food good enjoy everi mouth enjoy relax venu coupl small famili group etc',\n",
              " 'nargil think great',\n",
              " 'best tater tot southwest',\n",
              " 'love place',\n",
              " 'definit worth paid',\n",
              " 'vanilla ice cream creami smooth profiterol choux pastri fresh enough',\n",
              " 'im az time new spot',\n",
              " 'manag worst',\n",
              " 'insid realli quit nice clean',\n",
              " 'food outstand price reason',\n",
              " 'think run back carli anytim soon food',\n",
              " 'due fact took minut acknowledg anoth minut get food kept forget thing',\n",
              " 'love margarita',\n",
              " 'first vega buffet disappoint',\n",
              " 'good though',\n",
              " 'one note ventil could use upgrad',\n",
              " 'great pork sandwich',\n",
              " 'wast time',\n",
              " 'total letdown would much rather go camelback flower shop cartel coffe',\n",
              " 'third chees friend burger cold',\n",
              " 'enjoy pizza brunch',\n",
              " 'steak well trim also perfectli cook',\n",
              " 'group claim would handl us beauti',\n",
              " 'love',\n",
              " 'ask bill leav without eat bring either',\n",
              " 'place jewel la vega exactli hope find nearli ten year live',\n",
              " 'seafood limit boil shrimp crab leg crab leg definit tast fresh',\n",
              " 'select food best',\n",
              " 'delici absolut back',\n",
              " 'small famili restaur fine dine establish',\n",
              " 'toro tartar cavier extraordinari like thinli slice wagyu white truffl',\n",
              " 'dont think back long time',\n",
              " 'attach ga station rare good sign',\n",
              " 'awesom',\n",
              " 'back mani time soon',\n",
              " 'menu much good stuff could decid',\n",
              " 'wors humili worker right front bunch horribl name call',\n",
              " 'conclus fill meal',\n",
              " 'daili special alway hit group',\n",
              " 'tragedi struck',\n",
              " 'pancak also realli good pretti larg',\n",
              " 'first crawfish experi delici',\n",
              " 'monster chicken fri steak egg time favorit',\n",
              " 'waitress sweet funni',\n",
              " 'also tast mom multi grain pumpkin pancak pecan butter amaz fluffi delici',\n",
              " 'rather eat airlin food serious',\n",
              " 'cant say enough good thing place',\n",
              " 'ambianc incred',\n",
              " 'waitress manag friendli',\n",
              " 'would recommend place',\n",
              " 'overal impress noca',\n",
              " 'gyro basic lettuc',\n",
              " 'terribl servic',\n",
              " 'thoroughli disappoint',\n",
              " 'much pasta love homemad hand made pasta thin pizza',\n",
              " 'give tri happi',\n",
              " 'far best cheesecurd ever',\n",
              " 'reason price also',\n",
              " 'everyth perfect night',\n",
              " 'food good typic bar food',\n",
              " 'drive get',\n",
              " 'first glanc love bakeri cafe nice ambianc clean friendli staff',\n",
              " 'anyway think go back',\n",
              " 'point finger item menu order disappoint',\n",
              " 'oh thing beauti restaur',\n",
              " 'gone go',\n",
              " 'greasi unhealthi meal',\n",
              " 'first time might last',\n",
              " 'burger amaz',\n",
              " 'similarli deliveri man say word apolog food minut late',\n",
              " 'way expens',\n",
              " 'sure order dessert even need pack go tiramisu cannoli die',\n",
              " 'first time wait next',\n",
              " 'bartend also nice',\n",
              " 'everyth good tasti',\n",
              " 'place two thumb way',\n",
              " 'best place vega breakfast check sat sun',\n",
              " 'love authent mexican food want whole bunch interest yet delici meat choos need tri place',\n",
              " 'terribl manag',\n",
              " 'excel new restaur experienc frenchman',\n",
              " 'zero star would give zero star',\n",
              " 'great steak great side great wine amaz dessert',\n",
              " 'worst martini ever',\n",
              " 'steak shrimp opinion best entre gc',\n",
              " 'opportun today sampl amaz pizza',\n",
              " 'wait thirti minut seat although vacant tabl folk wait',\n",
              " 'yellowtail carpaccio melt mouth fresh',\n",
              " 'tri go back even empti',\n",
              " 'go eat potato found stranger hair',\n",
              " 'spici enough perfect actual',\n",
              " 'last night second time dine happi decid go back',\n",
              " 'even hello right',\n",
              " 'dessert bit strang',\n",
              " 'boyfriend came first time recent trip vega could pleas qualiti food servic',\n",
              " 'realli recommend place go wrong donut place',\n",
              " 'nice ambianc',\n",
              " 'would recommend save room',\n",
              " 'guess mayb went night disgrac',\n",
              " 'howev recent experi particular locat good',\n",
              " 'know like restaur someth',\n",
              " 'avoid establish',\n",
              " 'think restaur suffer tri hard enough',\n",
              " 'tapa dish delici',\n",
              " 'heart place',\n",
              " 'salad bland vinegrett babi green heart palm',\n",
              " 'two felt disgust',\n",
              " 'good time',\n",
              " 'believ place great stop huge belli hanker sushi',\n",
              " 'gener portion great tast',\n",
              " 'never go back place never ever recommend place anyon',\n",
              " 'server went back forth sever time even much help',\n",
              " 'food delici',\n",
              " 'hour serious',\n",
              " 'consid theft',\n",
              " 'eew locat need complet overhaul',\n",
              " 'recent wit poor qualiti manag toward guest well',\n",
              " 'wait wait wait',\n",
              " 'also came back check us regularli excel servic',\n",
              " 'server super nice check us mani time',\n",
              " 'pizza tast old super chewi good way',\n",
              " 'swung give tri deepli disappoint',\n",
              " 'servic good compani better',\n",
              " 'staff also friendli effici',\n",
              " 'servic fan quick serv nice folk',\n",
              " 'boy sucker dri',\n",
              " 'rate',\n",
              " 'look authent thai food go els',\n",
              " 'steak recommend',\n",
              " 'pull car wait anoth minut acknowledg',\n",
              " 'great food great servic clean friendli set',\n",
              " 'assur back',\n",
              " 'hate thing much cheap qualiti black oliv',\n",
              " 'breakfast perpar great beauti present giant slice toast lightli dust powder sugar',\n",
              " 'kid play area nasti',\n",
              " 'great place fo take eat',\n",
              " 'waitress friendli happi accomod vegan veggi option',\n",
              " 'omg felt like never eaten thai food dish',\n",
              " 'extrem crumbi pretti tasteless',\n",
              " 'pale color instead nice char flavor',\n",
              " 'crouton also tast homemad extra plu',\n",
              " 'got home see driest damn wing ever',\n",
              " 'regular stop trip phoenix',\n",
              " 'realli enjoy crema caf expand even told friend best breakfast',\n",
              " 'good money',\n",
              " 'miss wish one philadelphia',\n",
              " 'got sit fairli fast end wait minut place order anoth minut food arriv',\n",
              " 'also best chees crisp town',\n",
              " 'good valu great food great servic',\n",
              " 'ask satisfi meal',\n",
              " 'food good',\n",
              " 'awesom',\n",
              " 'want leav',\n",
              " 'made drive way north scottsdal one bit disappoint',\n",
              " 'eat',\n",
              " 'owner realli realli need quit soooooo cheap let wrap freak sandwich two paper one',\n",
              " 'check place coupl year ago impress',\n",
              " 'chicken got definit reheat ok wedg cold soggi',\n",
              " 'sorri get food anytim soon',\n",
              " 'absolut must visit',\n",
              " 'cow tongu cheek taco amaz',\n",
              " 'friend like bloodi mari',\n",
              " 'despit hard rate busi actual rare give star',\n",
              " 'realli want make experi good one',\n",
              " 'return',\n",
              " 'chicken pho tast bland',\n",
              " 'disappoint',\n",
              " 'grill chicken tender yellow saffron season',\n",
              " 'drive thru mean want wait around half hour food somehow end go make us wait wait',\n",
              " 'pretti awesom place',\n",
              " 'ambienc perfect',\n",
              " 'best luck rude non custom servic focus new manag',\n",
              " 'grandmoth make roast chicken better one',\n",
              " 'ask multipl time wine list time ignor went hostess got one',\n",
              " 'staff alway super friendli help especi cool bring two small boy babi',\n",
              " 'four star food guy blue shirt great vibe still let us eat',\n",
              " 'roast beef sandwich tast realli good',\n",
              " 'even drastic sick',\n",
              " 'high qualiti chicken chicken caesar salad',\n",
              " 'order burger rare came done',\n",
              " 'promptli greet seat',\n",
              " 'tri go lunch madhous',\n",
              " 'proven dead wrong sushi bar qualiti great servic fast food impecc',\n",
              " 'wait hour seat greatest mood',\n",
              " 'good joint',\n",
              " 'macaron insan good',\n",
              " 'eat',\n",
              " 'waiter attent friendli inform',\n",
              " 'mayb cold would somewhat edibl',\n",
              " 'place lot promis fail deliv',\n",
              " 'bad experi',\n",
              " 'mistak',\n",
              " 'food averag best',\n",
              " 'great food',\n",
              " 'go back anytim soon',\n",
              " 'disappoint order big bay plater',\n",
              " 'great place relax awesom burger beer',\n",
              " 'perfect sit famili meal get togeth friend',\n",
              " 'much flavor poorli construct',\n",
              " 'patio seat comfort',\n",
              " 'fri rice dri well',\n",
              " 'hand favorit italian restaur',\n",
              " 'scream legit book somethat also pretti rare vega',\n",
              " 'fun experi',\n",
              " 'atmospher great love duo violinist play song request',\n",
              " 'person love hummu pita baklava falafel baba ganoush amaz eggplant',\n",
              " 'conveni sinc stay mgm',\n",
              " 'owner super friendli staff courteou',\n",
              " 'great',\n",
              " 'eclect select',\n",
              " 'sweet potato tot good onion ring perfect close',\n",
              " 'staff attent',\n",
              " 'chef gener time even came around twice take pictur',\n",
              " 'owner use work nobu place realli similar half price',\n",
              " 'googl mediocr imagin smashburg pop',\n",
              " 'dont go',\n",
              " 'promis disappoint',\n",
              " 'sushi lover avoid place mean',\n",
              " 'great doubl cheeseburg',\n",
              " 'awesom servic food',\n",
              " 'fantast neighborhood gem',\n",
              " 'wait go back',\n",
              " 'plantain worst ever tast',\n",
              " 'great place highli recommend',\n",
              " 'servic slow attent',\n",
              " 'gave star give star',\n",
              " 'staff spend time talk',\n",
              " 'dessert panna cotta amaz',\n",
              " 'good food great atmospher',\n",
              " 'damn good steak',\n",
              " 'total brunch fail',\n",
              " 'price reason flavor spot sauc home made slaw drench mayo',\n",
              " 'decor nice piano music soundtrack pleasant',\n",
              " 'steak amaz rge fillet relleno best seafood plate ever',\n",
              " 'good food good servic',\n",
              " 'absolut amaz',\n",
              " 'probabl back honest',\n",
              " 'definit back',\n",
              " 'sergeant pepper beef sandwich auju sauc excel sandwich well',\n",
              " 'hawaiian breez mango magic pineappl delight smoothi tri far good',\n",
              " 'went lunch servic slow',\n",
              " 'much say place walk expect amaz quickli disappoint',\n",
              " 'mortifi',\n",
              " 'needless say never back',\n",
              " 'anyway food definit fill price pay expect',\n",
              " 'chip came drip greas mostli edibl',\n",
              " 'realli impress strip steak',\n",
              " 'go sinc everi meal awesom',\n",
              " 'server nice attent serv staff',\n",
              " 'cashier friendli even brought food',\n",
              " 'work hospit industri paradis valley refrain recommend cibo longer',\n",
              " 'atmospher fun',\n",
              " 'would recommend other',\n",
              " 'servic quick even go order like like',\n",
              " 'mean realli get famou fish chip terribl',\n",
              " 'said mouth belli still quit pleas',\n",
              " 'thing',\n",
              " 'thumb',\n",
              " 'read pleas go',\n",
              " 'love grill pizza remind legit italian pizza',\n",
              " 'pro larg seat area nice bar area great simpl drink menu best brick oven pizza homemad dough',\n",
              " 'realli nice atmospher',\n",
              " 'tonight elk filet special suck',\n",
              " 'one bite hook',\n",
              " 'order old classic new dish go time sore disappoint everyth',\n",
              " 'cute quaint simpl honest',\n",
              " 'chicken delici season perfect fri outsid moist chicken insid',\n",
              " 'food great alway compliment chef',\n",
              " 'special thank dylan recommend order yummi tummi',\n",
              " 'awesom select beer',\n",
              " 'great food awesom servic',\n",
              " 'one nice thing ad gratuiti bill sinc parti larger expect tip',\n",
              " 'fli appl juic fli',\n",
              " 'han nan chicken also tasti',\n",
              " 'servic thought good',\n",
              " 'food bare lukewarm must sit wait server bring us',\n",
              " 'ryan bar definit one edinburgh establish revisit',\n",
              " 'nicest chines restaur',\n",
              " 'overal like food servic',\n",
              " 'also serv indian naan bread hummu spici pine nut sauc world',\n",
              " 'probabl never come back recommend',\n",
              " 'friend pasta also bad bare touch',\n",
              " 'tri airport experi tasti food speedi friendli servic',\n",
              " 'love decor chines calligraphi wall paper',\n",
              " 'never anyth complain',\n",
              " 'restaur clean famili restaur feel',\n",
              " 'way fri',\n",
              " 'sure long stood long enough begin feel awkwardli place',\n",
              " 'open sandwich impress good way',\n",
              " 'back',\n",
              " 'warm feel servic felt like guest special treat',\n",
              " 'extens menu provid lot option breakfast',\n",
              " 'alway order vegetarian menu dinner wide array option choos',\n",
              " 'watch price inflat portion get smaller manag attitud grow rapidli',\n",
              " 'wonder lil tapa ambienc made feel warm fuzzi insid',\n",
              " 'got enjoy seafood salad fabul vinegrett',\n",
              " 'wonton thin thick chewi almost melt mouth',\n",
              " 'level spici perfect spice whelm soup',\n",
              " 'sat right time server get go fantast',\n",
              " 'main thing enjoy crowd older crowd around mid',\n",
              " 'side town definit spot hit',\n",
              " 'wait minut get drink longer get arepa',\n",
              " 'great place eat',\n",
              " 'jalapeno bacon soooo good',\n",
              " 'servic poor that nice',\n",
              " 'food good servic good price good',\n",
              " 'place clean food oh stale',\n",
              " 'chicken dish ok beef like shoe leather',\n",
              " 'servic beyond bad',\n",
              " 'happi',\n",
              " 'tast like dirt',\n",
              " 'one place phoenix would defin go back',\n",
              " 'block amaz',\n",
              " 'close hous low key non fanci afford price good food',\n",
              " 'hot sour egg flower soup absolut star',\n",
              " 'sashimi poor qualiti soggi tasteless',\n",
              " 'great time famili dinner sunday night',\n",
              " 'food tasti say real tradit hunan style',\n",
              " 'bother slow servic',\n",
              " 'flair bartend absolut amaz',\n",
              " 'frozen margarita way sugari tast',\n",
              " 'good order twice',\n",
              " 'nutshel restaraunt smell like combin dirti fish market sewer',\n",
              " 'girlfriend veal bad',\n",
              " 'unfortun good',\n",
              " 'pretti satifi experi',\n",
              " 'join club get awesom offer via email',\n",
              " 'perfect someon like beer ice cold case even colder',\n",
              " 'bland flavorless good way describ bare tepid meat',\n",
              " 'chain fan beat place easili',\n",
              " 'nacho must',\n",
              " 'come back',\n",
              " 'mani word say place everyth pretti well',\n",
              " 'staff super nice quick even crazi crowd downtown juri lawyer court staff',\n",
              " 'great atmospher friendli fast servic',\n",
              " 'receiv pita huge lot meat thumb',\n",
              " 'food arriv meh',\n",
              " 'pay hot dog fri look like came kid meal wienerschnitzel idea good meal',\n",
              " 'classic main lobster roll fantast',\n",
              " 'brother law work mall ate day guess sick night',\n",
              " 'good go review place twice herea tribut place tribut event held last night',\n",
              " 'chip salsa realli good salsa fresh',\n",
              " 'place great',\n",
              " 'mediocr food',\n",
              " 'get insid impress place',\n",
              " 'super pissd',\n",
              " 'servic super friendli',\n",
              " 'sad littl veget overcook',\n",
              " 'place nice surpris',\n",
              " 'golden crispi delici',\n",
              " 'high hope place sinc burger cook charcoal grill unfortun tast fell flat way flat',\n",
              " 'could eat bruschetta day devin',\n",
              " 'singl employe came see ok even need water refil final serv us food',\n",
              " 'lastli mozzarella stick best thing order',\n",
              " 'first time ever came amaz experi still tell peopl awesom duck',\n",
              " 'server neglig need made us feel unwelcom would suggest place',\n",
              " 'servic terribl though',\n",
              " 'place overpr consist boba realli overpr',\n",
              " 'pack',\n",
              " 'love place',\n",
              " 'say dessert yummi',\n",
              " 'food terribl',\n",
              " 'season fruit fresh white peach pure',\n",
              " 'kept get wors wors offici done',\n",
              " 'place honestli blown',\n",
              " 'definit would eat',\n",
              " 'wast money',\n",
              " 'love put food nice plastic contain oppos cram littl paper takeout box',\n",
              " 'cr pe delic thin moist',\n",
              " 'aw servic',\n",
              " 'ever go',\n",
              " 'food qualiti horribl',\n",
              " 'price think place would much rather gone',\n",
              " 'servic fair best',\n",
              " 'love sushi found kabuki price hip servic',\n",
              " 'favor stay away dish',\n",
              " 'poor servic',\n",
              " 'one tabl thought food averag worth wait',\n",
              " 'best servic food ever maria server good friendli made day',\n",
              " 'excel',\n",
              " 'paid bill tip felt server terribl job',\n",
              " 'lunch great experi',\n",
              " 'never bland food surpris consid articl read focus much spice flavor',\n",
              " 'food way overpr portion fuck small',\n",
              " 'recent tri caballero back everi week sinc',\n",
              " 'buck head realli expect better food',\n",
              " 'food came good pace',\n",
              " 'ate twice last visit especi enjoy salmon salad',\n",
              " 'back',\n",
              " 'could believ dirti oyster',\n",
              " 'place deserv star',\n",
              " 'would recommend place',\n",
              " 'fact go round star awesom',\n",
              " 'disbelief dish qualifi worst version food ever tast',\n",
              " 'bad day low toler rude custom servic peopl job nice polit wash dish otherwis',\n",
              " 'potato great biscuit',\n",
              " 'probabl would go',\n",
              " 'flavor perfect amount heat',\n",
              " 'price reason servic great',\n",
              " 'wife hate meal coconut shrimp friend realli enjoy meal either',\n",
              " 'fella got huevo ranchero look appeal',\n",
              " 'went happi hour great list wine',\n",
              " 'may say buffet pricey think get pay place get quit lot',\n",
              " 'probabl come back',\n",
              " 'worst food servic',\n",
              " 'place pretti good nice littl vibe restaur',\n",
              " 'talk great custom servic cours back',\n",
              " 'hot dish hot cold dish close room temp watch staff prepar food bare hand glove everyth deep fri oil',\n",
              " 'love fri bean',\n",
              " 'alway pleasur deal',\n",
              " 'plethora salad sandwich everyth tri get seal approv',\n",
              " 'place awesom want someth light healthi summer',\n",
              " 'sushi strip place go',\n",
              " 'servic great even manag came help tabl',\n",
              " 'feel dine room colleg cook cours high class dine servic slow best',\n",
              " 'start review two star edit give one',\n",
              " 'worst sushi ever eat besid costco',\n",
              " 'excel restaur highlight great servic uniqu menu beauti set',\n",
              " 'boyfriend sat bar complet delight experi',\n",
              " 'weird vibe owner',\n",
              " 'hardli meat',\n",
              " 'better bagel groceri store',\n",
              " 'go place gyro',\n",
              " 'love owner chef one authent japanes cool dude',\n",
              " 'burger good pizza use amaz doughi flavorless',\n",
              " 'found six inch long piec wire salsa',\n",
              " 'servic terribl food mediocr',\n",
              " 'defin enjoy',\n",
              " 'order albondiga soup warm tast like tomato soup frozen meatbal',\n",
              " 'three differ occas ask well done medium well three time got bloodiest piec meat plate',\n",
              " 'two bite refus eat anymor',\n",
              " 'servic extrem slow',\n",
              " 'minut wait got tabl',\n",
              " 'serious killer hot chai latt',\n",
              " 'allergi warn menu waitress absolut clue meal contain peanut',\n",
              " 'boyfriend tri mediterranean chicken salad fell love',\n",
              " 'rotat beer tap also highlight place',\n",
              " 'price bit concern mellow mushroom',\n",
              " 'worst thai ever',\n",
              " 'stay vega must get breakfast least',\n",
              " 'want first say server great perfect servic',\n",
              " 'pizza select good',\n",
              " 'strawberri tea good',\n",
              " 'highli unprofession rude loyal patron',\n",
              " 'overal great experi',\n",
              " 'spend money elsewher',\n",
              " 'regular toast bread equal satisfi occasion pat butter mmmm',\n",
              " 'buffet bellagio far anticip',\n",
              " 'drink weak peopl',\n",
              " 'order correct',\n",
              " 'also feel like chip bought made hous',\n",
              " 'disappoint dinner went elsewher dessert',\n",
              " 'chip sal amaz',\n",
              " 'return',\n",
              " 'new fav vega buffet spot',\n",
              " 'serious cannot believ owner mani unexperienc employe run around like chicken head cut',\n",
              " 'sad',\n",
              " 'felt insult disrespect could talk judg anoth human like',\n",
              " 'call steakhous properli cook steak understand',\n",
              " 'impress concept food',\n",
              " 'thing crazi guacamol like pur ed',\n",
              " 'realli noth postino hope experi better',\n",
              " 'got food poison buffet',\n",
              " 'brought fresh batch fri think yay someth warm',\n",
              " 'hilari yummi christma eve dinner rememb biggest fail entir trip us',\n",
              " 'needless say go back anytim soon',\n",
              " 'place disgust',\n",
              " 'everi time eat see care teamwork profession degre',\n",
              " 'ri style calamari joke',\n",
              " 'howev much garlic fondu bare edibl',\n",
              " 'could bare stomach meal complain busi lunch',\n",
              " 'bad lost heart finish',\n",
              " 'also took forev bring us check ask',\n",
              " 'one make scene restaur get definit lost love one',\n",
              " 'disappoint experi',\n",
              " 'food par denni say good',\n",
              " 'want wait mediocr food downright terribl servic place',\n",
              " 'waaaaaayyyyyyyyyi rate say',\n",
              " 'go back',\n",
              " 'place fairli clean food simpli worth',\n",
              " 'place lack style',\n",
              " 'sangria half glass wine full ridicul',\n",
              " 'bother come',\n",
              " 'meat pretti dri slice brisket pull pork',\n",
              " 'build seem pretti neat bathroom pretti trippi eat',\n",
              " 'equal aw',\n",
              " 'probabl hurri go back',\n",
              " 'slow seat even reserv',\n",
              " 'good stretch imagin',\n",
              " 'cashew cream sauc bland veget undercook',\n",
              " 'chipolt ranch dip saus tasteless seem thin water heat',\n",
              " 'bit sweet realli spici enough lack flavor',\n",
              " 'disappoint',\n",
              " 'place horribl way overpr',\n",
              " 'mayb vegetarian fare twice thought averag best',\n",
              " 'busi know',\n",
              " 'tabl outsid also dirti lot time worker alway friendli help menu',\n",
              " 'ambianc feel like buffet set douchey indoor garden tea biscuit',\n",
              " 'con spotti servic',\n",
              " 'fri hot neither burger',\n",
              " 'came back cold',\n",
              " 'food came disappoint ensu',\n",
              " 'real disappoint waiter',\n",
              " 'husband said rude even apolog bad food anyth',\n",
              " 'reason eat would fill night bing drink get carb stomach',\n",
              " 'insult profound deuchebaggeri go outsid smoke break serv solidifi',\n",
              " 'someon order two taco think may part custom servic ask combo ala cart',\n",
              " 'quit disappoint although blame need place door',\n",
              " 'rave review wait eat disappoint',\n",
              " 'del taco pretti nasti avoid possibl',\n",
              " 'hard make decent hamburg',\n",
              " 'like',\n",
              " 'hell go back',\n",
              " 'gotten much better servic pizza place next door servic receiv restaur',\n",
              " 'know big deal place back ya',\n",
              " 'immedi said want talk manag want talk guy shot firebal behind bar',\n",
              " 'ambianc much better',\n",
              " 'unfortun set us disapppoint entre',\n",
              " 'food good',\n",
              " 'server suck wait correct server heimer suck',\n",
              " 'happen next pretti put',\n",
              " 'bad caus know famili own realli want like place',\n",
              " 'overpr get',\n",
              " 'vomit bathroom mid lunch',\n",
              " 'kept look time soon becom minut yet still food',\n",
              " 'place eat circumst would ever return top list',\n",
              " 'start tuna sashimi brownish color obvious fresh',\n",
              " 'food averag',\n",
              " 'sure beat nacho movi would expect littl bit come restaur',\n",
              " 'ha long bay bit flop',\n",
              " 'problem charg sandwich bigger subway sub offer better amount veget',\n",
              " 'shrimp unwrap live mile brushfir liter ice cold',\n",
              " 'lack flavor seem undercook dri',\n",
              " 'realli impress place close',\n",
              " 'would avoid place stay mirag',\n",
              " 'refri bean came meal dri crusti food bland',\n",
              " 'spend money time place els',\n",
              " 'ladi tabl next us found live green caterpillar salad',\n",
              " 'present food aw',\n",
              " 'tell disappoint',\n",
              " 'think food flavor textur lack',\n",
              " 'appetit instantli gone',\n",
              " 'overal impress would go back',\n",
              " 'whole experi underwhelm think go ninja sushi next time',\n",
              " 'wast enough life pour salt wound draw time took bring check']"
            ]
          },
          "metadata": {},
          "execution_count": 4
        }
      ]
    },
    {
      "cell_type": "code",
      "source": [
        "from sklearn.feature_extraction.text import CountVectorizer\n",
        "cv = CountVectorizer(max_features=1500)\n",
        "X = cv.fit_transform(corpus).toarray()\n",
        "y = data.iloc[: ,1].values\n"
      ],
      "metadata": {
        "id": "J6-ioXu33u6h"
      },
      "execution_count": 5,
      "outputs": []
    },
    {
      "cell_type": "code",
      "source": [
        "from sklearn.model_selection import train_test_split\n",
        "X_train, X_test, y_train, y_test = train_test_split(X, y, test_size=0.20, random_state=0)\n"
      ],
      "metadata": {
        "id": "FeTNVd0j3zOv"
      },
      "execution_count": 6,
      "outputs": []
    },
    {
      "cell_type": "code",
      "source": [
        "from sklearn.naive_bayes import MultinomialNB\n",
        "classifier =  MultinomialNB()\n",
        "classifier.fit(X_train,y_train)\n"
      ],
      "metadata": {
        "colab": {
          "base_uri": "https://localhost:8080/",
          "height": 74
        },
        "id": "Np313LOu34vs",
        "outputId": "e1148d33-42dc-4f5d-8002-f94644125e2b"
      },
      "execution_count": 7,
      "outputs": [
        {
          "output_type": "execute_result",
          "data": {
            "text/plain": [
              "MultinomialNB()"
            ],
            "text/html": [
              "<style>#sk-container-id-1 {color: black;background-color: white;}#sk-container-id-1 pre{padding: 0;}#sk-container-id-1 div.sk-toggleable {background-color: white;}#sk-container-id-1 label.sk-toggleable__label {cursor: pointer;display: block;width: 100%;margin-bottom: 0;padding: 0.3em;box-sizing: border-box;text-align: center;}#sk-container-id-1 label.sk-toggleable__label-arrow:before {content: \"▸\";float: left;margin-right: 0.25em;color: #696969;}#sk-container-id-1 label.sk-toggleable__label-arrow:hover:before {color: black;}#sk-container-id-1 div.sk-estimator:hover label.sk-toggleable__label-arrow:before {color: black;}#sk-container-id-1 div.sk-toggleable__content {max-height: 0;max-width: 0;overflow: hidden;text-align: left;background-color: #f0f8ff;}#sk-container-id-1 div.sk-toggleable__content pre {margin: 0.2em;color: black;border-radius: 0.25em;background-color: #f0f8ff;}#sk-container-id-1 input.sk-toggleable__control:checked~div.sk-toggleable__content {max-height: 200px;max-width: 100%;overflow: auto;}#sk-container-id-1 input.sk-toggleable__control:checked~label.sk-toggleable__label-arrow:before {content: \"▾\";}#sk-container-id-1 div.sk-estimator input.sk-toggleable__control:checked~label.sk-toggleable__label {background-color: #d4ebff;}#sk-container-id-1 div.sk-label input.sk-toggleable__control:checked~label.sk-toggleable__label {background-color: #d4ebff;}#sk-container-id-1 input.sk-hidden--visually {border: 0;clip: rect(1px 1px 1px 1px);clip: rect(1px, 1px, 1px, 1px);height: 1px;margin: -1px;overflow: hidden;padding: 0;position: absolute;width: 1px;}#sk-container-id-1 div.sk-estimator {font-family: monospace;background-color: #f0f8ff;border: 1px dotted black;border-radius: 0.25em;box-sizing: border-box;margin-bottom: 0.5em;}#sk-container-id-1 div.sk-estimator:hover {background-color: #d4ebff;}#sk-container-id-1 div.sk-parallel-item::after {content: \"\";width: 100%;border-bottom: 1px solid gray;flex-grow: 1;}#sk-container-id-1 div.sk-label:hover label.sk-toggleable__label {background-color: #d4ebff;}#sk-container-id-1 div.sk-serial::before {content: \"\";position: absolute;border-left: 1px solid gray;box-sizing: border-box;top: 0;bottom: 0;left: 50%;z-index: 0;}#sk-container-id-1 div.sk-serial {display: flex;flex-direction: column;align-items: center;background-color: white;padding-right: 0.2em;padding-left: 0.2em;position: relative;}#sk-container-id-1 div.sk-item {position: relative;z-index: 1;}#sk-container-id-1 div.sk-parallel {display: flex;align-items: stretch;justify-content: center;background-color: white;position: relative;}#sk-container-id-1 div.sk-item::before, #sk-container-id-1 div.sk-parallel-item::before {content: \"\";position: absolute;border-left: 1px solid gray;box-sizing: border-box;top: 0;bottom: 0;left: 50%;z-index: -1;}#sk-container-id-1 div.sk-parallel-item {display: flex;flex-direction: column;z-index: 1;position: relative;background-color: white;}#sk-container-id-1 div.sk-parallel-item:first-child::after {align-self: flex-end;width: 50%;}#sk-container-id-1 div.sk-parallel-item:last-child::after {align-self: flex-start;width: 50%;}#sk-container-id-1 div.sk-parallel-item:only-child::after {width: 0;}#sk-container-id-1 div.sk-dashed-wrapped {border: 1px dashed gray;margin: 0 0.4em 0.5em 0.4em;box-sizing: border-box;padding-bottom: 0.4em;background-color: white;}#sk-container-id-1 div.sk-label label {font-family: monospace;font-weight: bold;display: inline-block;line-height: 1.2em;}#sk-container-id-1 div.sk-label-container {text-align: center;}#sk-container-id-1 div.sk-container {/* jupyter's `normalize.less` sets `[hidden] { display: none; }` but bootstrap.min.css set `[hidden] { display: none !important; }` so we also need the `!important` here to be able to override the default hidden behavior on the sphinx rendered scikit-learn.org. See: https://github.com/scikit-learn/scikit-learn/issues/21755 */display: inline-block !important;position: relative;}#sk-container-id-1 div.sk-text-repr-fallback {display: none;}</style><div id=\"sk-container-id-1\" class=\"sk-top-container\"><div class=\"sk-text-repr-fallback\"><pre>MultinomialNB()</pre><b>In a Jupyter environment, please rerun this cell to show the HTML representation or trust the notebook. <br />On GitHub, the HTML representation is unable to render, please try loading this page with nbviewer.org.</b></div><div class=\"sk-container\" hidden><div class=\"sk-item\"><div class=\"sk-estimator sk-toggleable\"><input class=\"sk-toggleable__control sk-hidden--visually\" id=\"sk-estimator-id-1\" type=\"checkbox\" checked><label for=\"sk-estimator-id-1\" class=\"sk-toggleable__label sk-toggleable__label-arrow\">MultinomialNB</label><div class=\"sk-toggleable__content\"><pre>MultinomialNB()</pre></div></div></div></div></div>"
            ]
          },
          "metadata": {},
          "execution_count": 7
        }
      ]
    },
    {
      "cell_type": "code",
      "source": [
        "y_predict = classifier.predict(X_test)\n",
        "y_predict"
      ],
      "metadata": {
        "colab": {
          "base_uri": "https://localhost:8080/"
        },
        "id": "LH3Ty6Pn382j",
        "outputId": "f11bfdf4-4ed8-4c45-e007-7dcc8f798625"
      },
      "execution_count": 8,
      "outputs": [
        {
          "output_type": "execute_result",
          "data": {
            "text/plain": [
              "array([0, 0, 0, 0, 0, 0, 1, 0, 0, 1, 1, 1, 1, 1, 1, 1, 0, 0, 0, 1, 0, 0,\n",
              "       1, 1, 1, 1, 1, 1, 1, 1, 1, 1, 1, 1, 1, 0, 0, 0, 0, 1, 1, 1, 1, 0,\n",
              "       0, 0, 1, 1, 0, 0, 1, 1, 1, 1, 1, 0, 1, 1, 0, 1, 1, 0, 0, 1, 0, 0,\n",
              "       1, 0, 1, 0, 1, 1, 1, 0, 0, 0, 0, 1, 0, 1, 1, 1, 1, 0, 1, 1, 1, 0,\n",
              "       1, 1, 0, 1, 0, 0, 0, 0, 0, 0, 0, 0, 0, 1, 1, 1, 0, 1, 1, 1, 0, 0,\n",
              "       0, 1, 0, 1, 1, 0, 1, 1, 1, 1, 1, 0, 1, 1, 0, 0, 1, 1, 0, 0, 1, 1,\n",
              "       0, 0, 1, 1, 1, 1, 1, 1, 0, 1, 1, 0, 0, 0, 0, 0, 1, 0, 1, 0, 1, 1,\n",
              "       1, 0, 1, 0, 1, 1, 0, 0, 1, 1, 0, 0, 1, 0, 0, 0, 0, 1, 1, 0, 0, 1,\n",
              "       0, 1, 0, 0, 1, 0, 0, 1, 0, 0, 0, 1, 0, 1, 1, 0, 1, 0, 0, 0, 1, 1,\n",
              "       0, 1])"
            ]
          },
          "metadata": {},
          "execution_count": 8
        }
      ]
    },
    {
      "cell_type": "code",
      "source": [
        "from sklearn.metrics import accuracy_score\n",
        "from sklearn.metrics import precision_score\n",
        "from sklearn.metrics import recall_score\n",
        "\n",
        "score1 = accuracy_score(y_test,y_predict)\n",
        "score2 = precision_score(y_test,y_predict)\n",
        "score3 = recall_score(y_test,y_predict)\n",
        "\n",
        "print(f\"The accuracy score for the model is {score1*100}%\")\n",
        "print(f\"The precision score for the model is {score2*100}%\")\n",
        "print(f\"The recall score for the model is {score3*100}%\")\n"
      ],
      "metadata": {
        "colab": {
          "base_uri": "https://localhost:8080/"
        },
        "id": "WOGrLvZy4BFn",
        "outputId": "a30aadd5-13d6-4c56-bf50-9400dddabb8f"
      },
      "execution_count": 9,
      "outputs": [
        {
          "output_type": "stream",
          "name": "stdout",
          "text": [
            "The accuracy score for the model is 76.5%\n",
            "The precision score for the model is 76.41509433962264%\n",
            "The recall score for the model is 78.64077669902912%\n"
          ]
        }
      ]
    },
    {
      "cell_type": "code",
      "source": [
        "best_score = 0.0\n",
        "alp = 0.0\n",
        "for i in np.arange (0.1,1.1,0.1):\n",
        "  classifier = MultinomialNB(alpha = i)\n",
        "  classifier.fit(X_train,y_train)\n",
        "  y_predict = classifier.predict(X_test)\n",
        "  score = accuracy_score(y_test,y_predict)\n",
        "  if score > best_score:\n",
        "    best_score = score\n",
        "    alp = i\n",
        "\n",
        "print(\"Best accuracy Score is \"+str(best_score*100)+\" for alpha \"+str(alp))\n"
      ],
      "metadata": {
        "colab": {
          "base_uri": "https://localhost:8080/"
        },
        "id": "0aLhHtRk4IJr",
        "outputId": "3067db45-0340-4b48-85a3-7519f68b3495"
      },
      "execution_count": 10,
      "outputs": [
        {
          "output_type": "stream",
          "name": "stdout",
          "text": [
            "Best accuracy Score is 78.5 for alpha 0.2\n"
          ]
        }
      ]
    },
    {
      "cell_type": "code",
      "source": [
        "from sklearn.naive_bayes import MultinomialNB\n",
        "classifier =  MultinomialNB(alpha=0.2)\n",
        "classifier.fit(X_train,y_train)"
      ],
      "metadata": {
        "colab": {
          "base_uri": "https://localhost:8080/",
          "height": 74
        },
        "id": "emi92nJi4L72",
        "outputId": "480387e7-da22-48ed-9b51-8bd7363bb477"
      },
      "execution_count": 11,
      "outputs": [
        {
          "output_type": "execute_result",
          "data": {
            "text/plain": [
              "MultinomialNB(alpha=0.2)"
            ],
            "text/html": [
              "<style>#sk-container-id-2 {color: black;background-color: white;}#sk-container-id-2 pre{padding: 0;}#sk-container-id-2 div.sk-toggleable {background-color: white;}#sk-container-id-2 label.sk-toggleable__label {cursor: pointer;display: block;width: 100%;margin-bottom: 0;padding: 0.3em;box-sizing: border-box;text-align: center;}#sk-container-id-2 label.sk-toggleable__label-arrow:before {content: \"▸\";float: left;margin-right: 0.25em;color: #696969;}#sk-container-id-2 label.sk-toggleable__label-arrow:hover:before {color: black;}#sk-container-id-2 div.sk-estimator:hover label.sk-toggleable__label-arrow:before {color: black;}#sk-container-id-2 div.sk-toggleable__content {max-height: 0;max-width: 0;overflow: hidden;text-align: left;background-color: #f0f8ff;}#sk-container-id-2 div.sk-toggleable__content pre {margin: 0.2em;color: black;border-radius: 0.25em;background-color: #f0f8ff;}#sk-container-id-2 input.sk-toggleable__control:checked~div.sk-toggleable__content {max-height: 200px;max-width: 100%;overflow: auto;}#sk-container-id-2 input.sk-toggleable__control:checked~label.sk-toggleable__label-arrow:before {content: \"▾\";}#sk-container-id-2 div.sk-estimator input.sk-toggleable__control:checked~label.sk-toggleable__label {background-color: #d4ebff;}#sk-container-id-2 div.sk-label input.sk-toggleable__control:checked~label.sk-toggleable__label {background-color: #d4ebff;}#sk-container-id-2 input.sk-hidden--visually {border: 0;clip: rect(1px 1px 1px 1px);clip: rect(1px, 1px, 1px, 1px);height: 1px;margin: -1px;overflow: hidden;padding: 0;position: absolute;width: 1px;}#sk-container-id-2 div.sk-estimator {font-family: monospace;background-color: #f0f8ff;border: 1px dotted black;border-radius: 0.25em;box-sizing: border-box;margin-bottom: 0.5em;}#sk-container-id-2 div.sk-estimator:hover {background-color: #d4ebff;}#sk-container-id-2 div.sk-parallel-item::after {content: \"\";width: 100%;border-bottom: 1px solid gray;flex-grow: 1;}#sk-container-id-2 div.sk-label:hover label.sk-toggleable__label {background-color: #d4ebff;}#sk-container-id-2 div.sk-serial::before {content: \"\";position: absolute;border-left: 1px solid gray;box-sizing: border-box;top: 0;bottom: 0;left: 50%;z-index: 0;}#sk-container-id-2 div.sk-serial {display: flex;flex-direction: column;align-items: center;background-color: white;padding-right: 0.2em;padding-left: 0.2em;position: relative;}#sk-container-id-2 div.sk-item {position: relative;z-index: 1;}#sk-container-id-2 div.sk-parallel {display: flex;align-items: stretch;justify-content: center;background-color: white;position: relative;}#sk-container-id-2 div.sk-item::before, #sk-container-id-2 div.sk-parallel-item::before {content: \"\";position: absolute;border-left: 1px solid gray;box-sizing: border-box;top: 0;bottom: 0;left: 50%;z-index: -1;}#sk-container-id-2 div.sk-parallel-item {display: flex;flex-direction: column;z-index: 1;position: relative;background-color: white;}#sk-container-id-2 div.sk-parallel-item:first-child::after {align-self: flex-end;width: 50%;}#sk-container-id-2 div.sk-parallel-item:last-child::after {align-self: flex-start;width: 50%;}#sk-container-id-2 div.sk-parallel-item:only-child::after {width: 0;}#sk-container-id-2 div.sk-dashed-wrapped {border: 1px dashed gray;margin: 0 0.4em 0.5em 0.4em;box-sizing: border-box;padding-bottom: 0.4em;background-color: white;}#sk-container-id-2 div.sk-label label {font-family: monospace;font-weight: bold;display: inline-block;line-height: 1.2em;}#sk-container-id-2 div.sk-label-container {text-align: center;}#sk-container-id-2 div.sk-container {/* jupyter's `normalize.less` sets `[hidden] { display: none; }` but bootstrap.min.css set `[hidden] { display: none !important; }` so we also need the `!important` here to be able to override the default hidden behavior on the sphinx rendered scikit-learn.org. See: https://github.com/scikit-learn/scikit-learn/issues/21755 */display: inline-block !important;position: relative;}#sk-container-id-2 div.sk-text-repr-fallback {display: none;}</style><div id=\"sk-container-id-2\" class=\"sk-top-container\"><div class=\"sk-text-repr-fallback\"><pre>MultinomialNB(alpha=0.2)</pre><b>In a Jupyter environment, please rerun this cell to show the HTML representation or trust the notebook. <br />On GitHub, the HTML representation is unable to render, please try loading this page with nbviewer.org.</b></div><div class=\"sk-container\" hidden><div class=\"sk-item\"><div class=\"sk-estimator sk-toggleable\"><input class=\"sk-toggleable__control sk-hidden--visually\" id=\"sk-estimator-id-2\" type=\"checkbox\" checked><label for=\"sk-estimator-id-2\" class=\"sk-toggleable__label sk-toggleable__label-arrow\">MultinomialNB</label><div class=\"sk-toggleable__content\"><pre>MultinomialNB(alpha=0.2)</pre></div></div></div></div></div>"
            ]
          },
          "metadata": {},
          "execution_count": 11
        }
      ]
    },
    {
      "cell_type": "code",
      "source": [
        "y_predict = classifier.predict(X_test)\n",
        "y_predict\n"
      ],
      "metadata": {
        "colab": {
          "base_uri": "https://localhost:8080/"
        },
        "id": "jfm3Rfak4Rm0",
        "outputId": "82313abe-d858-4875-eb0d-c87cf8e69b5b"
      },
      "execution_count": 12,
      "outputs": [
        {
          "output_type": "execute_result",
          "data": {
            "text/plain": [
              "array([0, 0, 0, 0, 0, 0, 1, 0, 0, 1, 1, 1, 1, 1, 1, 1, 0, 0, 0, 1, 0, 0,\n",
              "       1, 1, 1, 1, 1, 1, 1, 0, 1, 1, 1, 1, 1, 0, 0, 0, 1, 1, 1, 1, 1, 0,\n",
              "       0, 0, 1, 1, 0, 0, 1, 1, 1, 1, 1, 0, 1, 1, 0, 1, 1, 0, 0, 1, 1, 0,\n",
              "       1, 0, 1, 0, 1, 1, 1, 0, 0, 0, 1, 0, 0, 1, 0, 1, 1, 0, 1, 1, 1, 0,\n",
              "       1, 1, 0, 1, 0, 0, 0, 0, 0, 0, 0, 0, 0, 1, 1, 1, 0, 1, 1, 1, 0, 0,\n",
              "       0, 1, 0, 1, 1, 0, 1, 1, 1, 1, 1, 0, 1, 1, 0, 0, 1, 1, 0, 0, 1, 1,\n",
              "       0, 0, 1, 1, 1, 1, 1, 1, 0, 1, 1, 0, 0, 0, 0, 0, 1, 0, 1, 0, 1, 1,\n",
              "       1, 0, 1, 1, 1, 1, 0, 0, 1, 1, 0, 0, 1, 0, 0, 0, 0, 1, 1, 0, 0, 1,\n",
              "       0, 1, 0, 0, 1, 0, 0, 1, 0, 1, 0, 1, 0, 1, 1, 0, 1, 0, 0, 0, 1, 1,\n",
              "       0, 1])"
            ]
          },
          "metadata": {},
          "execution_count": 12
        }
      ]
    },
    {
      "cell_type": "code",
      "source": [
        "from sklearn.metrics import accuracy_score\n",
        "from sklearn.metrics import precision_score\n",
        "from sklearn.metrics import recall_score\n",
        "\n",
        "score1 = accuracy_score(y_test,y_predict)\n",
        "score2 = precision_score(y_test,y_predict)\n",
        "score3 = recall_score(y_test,y_predict)\n",
        "\n",
        "print(f\"The accuracy score for the model is {score1*100}%\")\n",
        "print(f\"The precision score for the model is {score2*100}%\")\n",
        "print(f\"The recall score for the model is {score3*100}%\")\n"
      ],
      "metadata": {
        "colab": {
          "base_uri": "https://localhost:8080/"
        },
        "id": "ZSytGvBy4WLi",
        "outputId": "1d943389-2cbc-4007-bf14-0d0ff7c0345d"
      },
      "execution_count": 13,
      "outputs": [
        {
          "output_type": "stream",
          "name": "stdout",
          "text": [
            "The accuracy score for the model is 78.5%\n",
            "The precision score for the model is 77.77777777777779%\n",
            "The recall score for the model is 81.55339805825243%\n"
          ]
        }
      ]
    },
    {
      "cell_type": "code",
      "source": [
        "#testing the model against random inputs\n",
        "def predict_sentiment(sample_review):\n",
        "  sample_review = re.sub(pattern='[^a-zA-Z]',repl=' ',string = sample_review)\n",
        "  sample_review = sample_review.lower()\n",
        "  sample_review_words = sample_review.split()\n",
        "  sample_review_words = [ word for word in sample_review_words if not word in set(stopwords.words('english'))]\n",
        "  final_review = [ps().stem(word) for word in sample_review_words]\n",
        "  final_review = ' '.join(final_review)\n",
        "\n",
        "  temp = cv.transform([final_review]).toarray()\n",
        "  return classifier.predict(temp)\n"
      ],
      "metadata": {
        "id": "7at5JWFA4cVi"
      },
      "execution_count": 14,
      "outputs": []
    },
    {
      "cell_type": "code",
      "source": [
        "sample_review = ['The food is really wonderful',\n",
        "                 'The food is bad and service is also not good',\n",
        "                 'Not tasty and the texture was just nasty',\n",
        "                 'Highly recommended',\n",
        "                 'The worst was the salmon sashimi']\n",
        "i=1\n",
        "for sample in sample_review:\n",
        "  if predict_sentiment(sample):\n",
        "    print(f'The review {i} is Positive')\n",
        "  else:\n",
        "    print(f'The review {i} is Negative')\n",
        "  i+=1\n"
      ],
      "metadata": {
        "colab": {
          "base_uri": "https://localhost:8080/"
        },
        "id": "Ngit_ZhK4qPL",
        "outputId": "fd40b1ea-f01f-4c0f-ac23-21b1a7c7bb72"
      },
      "execution_count": 15,
      "outputs": [
        {
          "output_type": "stream",
          "name": "stdout",
          "text": [
            "The review 1 is Positive\n",
            "The review 2 is Negative\n",
            "The review 3 is Negative\n",
            "The review 4 is Positive\n",
            "The review 5 is Negative\n"
          ]
        }
      ]
    },
    {
      "cell_type": "code",
      "source": [
        "#LOGISTIC REGRESSION\n",
        "from sklearn.linear_model import LogisticRegression\n",
        "from imblearn.over_sampling import SMOTE\n",
        "\n",
        "X_train, X_test, y_train, y_test = train_test_split(X, y, test_size = 0.2, random_state = 10)\n",
        "sm = SMOTE(random_state = 2)\n",
        "X_train_res, y_train_res = sm.fit_resample(X_train, y_train.ravel())\n",
        "\n",
        "classifier = LogisticRegression()\n",
        "classifier.fit(X_train,y_train)\n"
      ],
      "metadata": {
        "colab": {
          "base_uri": "https://localhost:8080/",
          "height": 74
        },
        "id": "31QeEMNv4x_W",
        "outputId": "3a58c0f1-b53b-48b9-890a-25651bb445c7"
      },
      "execution_count": 16,
      "outputs": [
        {
          "output_type": "execute_result",
          "data": {
            "text/plain": [
              "LogisticRegression()"
            ],
            "text/html": [
              "<style>#sk-container-id-3 {color: black;background-color: white;}#sk-container-id-3 pre{padding: 0;}#sk-container-id-3 div.sk-toggleable {background-color: white;}#sk-container-id-3 label.sk-toggleable__label {cursor: pointer;display: block;width: 100%;margin-bottom: 0;padding: 0.3em;box-sizing: border-box;text-align: center;}#sk-container-id-3 label.sk-toggleable__label-arrow:before {content: \"▸\";float: left;margin-right: 0.25em;color: #696969;}#sk-container-id-3 label.sk-toggleable__label-arrow:hover:before {color: black;}#sk-container-id-3 div.sk-estimator:hover label.sk-toggleable__label-arrow:before {color: black;}#sk-container-id-3 div.sk-toggleable__content {max-height: 0;max-width: 0;overflow: hidden;text-align: left;background-color: #f0f8ff;}#sk-container-id-3 div.sk-toggleable__content pre {margin: 0.2em;color: black;border-radius: 0.25em;background-color: #f0f8ff;}#sk-container-id-3 input.sk-toggleable__control:checked~div.sk-toggleable__content {max-height: 200px;max-width: 100%;overflow: auto;}#sk-container-id-3 input.sk-toggleable__control:checked~label.sk-toggleable__label-arrow:before {content: \"▾\";}#sk-container-id-3 div.sk-estimator input.sk-toggleable__control:checked~label.sk-toggleable__label {background-color: #d4ebff;}#sk-container-id-3 div.sk-label input.sk-toggleable__control:checked~label.sk-toggleable__label {background-color: #d4ebff;}#sk-container-id-3 input.sk-hidden--visually {border: 0;clip: rect(1px 1px 1px 1px);clip: rect(1px, 1px, 1px, 1px);height: 1px;margin: -1px;overflow: hidden;padding: 0;position: absolute;width: 1px;}#sk-container-id-3 div.sk-estimator {font-family: monospace;background-color: #f0f8ff;border: 1px dotted black;border-radius: 0.25em;box-sizing: border-box;margin-bottom: 0.5em;}#sk-container-id-3 div.sk-estimator:hover {background-color: #d4ebff;}#sk-container-id-3 div.sk-parallel-item::after {content: \"\";width: 100%;border-bottom: 1px solid gray;flex-grow: 1;}#sk-container-id-3 div.sk-label:hover label.sk-toggleable__label {background-color: #d4ebff;}#sk-container-id-3 div.sk-serial::before {content: \"\";position: absolute;border-left: 1px solid gray;box-sizing: border-box;top: 0;bottom: 0;left: 50%;z-index: 0;}#sk-container-id-3 div.sk-serial {display: flex;flex-direction: column;align-items: center;background-color: white;padding-right: 0.2em;padding-left: 0.2em;position: relative;}#sk-container-id-3 div.sk-item {position: relative;z-index: 1;}#sk-container-id-3 div.sk-parallel {display: flex;align-items: stretch;justify-content: center;background-color: white;position: relative;}#sk-container-id-3 div.sk-item::before, #sk-container-id-3 div.sk-parallel-item::before {content: \"\";position: absolute;border-left: 1px solid gray;box-sizing: border-box;top: 0;bottom: 0;left: 50%;z-index: -1;}#sk-container-id-3 div.sk-parallel-item {display: flex;flex-direction: column;z-index: 1;position: relative;background-color: white;}#sk-container-id-3 div.sk-parallel-item:first-child::after {align-self: flex-end;width: 50%;}#sk-container-id-3 div.sk-parallel-item:last-child::after {align-self: flex-start;width: 50%;}#sk-container-id-3 div.sk-parallel-item:only-child::after {width: 0;}#sk-container-id-3 div.sk-dashed-wrapped {border: 1px dashed gray;margin: 0 0.4em 0.5em 0.4em;box-sizing: border-box;padding-bottom: 0.4em;background-color: white;}#sk-container-id-3 div.sk-label label {font-family: monospace;font-weight: bold;display: inline-block;line-height: 1.2em;}#sk-container-id-3 div.sk-label-container {text-align: center;}#sk-container-id-3 div.sk-container {/* jupyter's `normalize.less` sets `[hidden] { display: none; }` but bootstrap.min.css set `[hidden] { display: none !important; }` so we also need the `!important` here to be able to override the default hidden behavior on the sphinx rendered scikit-learn.org. See: https://github.com/scikit-learn/scikit-learn/issues/21755 */display: inline-block !important;position: relative;}#sk-container-id-3 div.sk-text-repr-fallback {display: none;}</style><div id=\"sk-container-id-3\" class=\"sk-top-container\"><div class=\"sk-text-repr-fallback\"><pre>LogisticRegression()</pre><b>In a Jupyter environment, please rerun this cell to show the HTML representation or trust the notebook. <br />On GitHub, the HTML representation is unable to render, please try loading this page with nbviewer.org.</b></div><div class=\"sk-container\" hidden><div class=\"sk-item\"><div class=\"sk-estimator sk-toggleable\"><input class=\"sk-toggleable__control sk-hidden--visually\" id=\"sk-estimator-id-3\" type=\"checkbox\" checked><label for=\"sk-estimator-id-3\" class=\"sk-toggleable__label sk-toggleable__label-arrow\">LogisticRegression</label><div class=\"sk-toggleable__content\"><pre>LogisticRegression()</pre></div></div></div></div></div>"
            ]
          },
          "metadata": {},
          "execution_count": 16
        }
      ]
    },
    {
      "cell_type": "code",
      "source": [
        "y_predict = classifier.predict(X_test)\n",
        "y_predict"
      ],
      "metadata": {
        "colab": {
          "base_uri": "https://localhost:8080/"
        },
        "id": "M_7AJ6mY450T",
        "outputId": "58729484-4dec-4244-df94-df67d0ecc51b"
      },
      "execution_count": 17,
      "outputs": [
        {
          "output_type": "execute_result",
          "data": {
            "text/plain": [
              "array([1, 0, 0, 0, 1, 0, 0, 1, 0, 0, 1, 1, 1, 0, 1, 1, 1, 1, 1, 0, 0, 0,\n",
              "       1, 1, 1, 1, 0, 0, 1, 1, 1, 1, 0, 1, 0, 1, 1, 0, 1, 0, 1, 1, 0, 0,\n",
              "       0, 1, 0, 1, 1, 0, 1, 0, 0, 1, 0, 1, 0, 0, 0, 1, 0, 0, 0, 0, 1, 1,\n",
              "       0, 1, 0, 0, 1, 1, 1, 1, 1, 0, 0, 0, 0, 1, 0, 0, 0, 1, 0, 1, 0, 0,\n",
              "       0, 1, 1, 0, 1, 0, 1, 0, 1, 1, 1, 0, 0, 0, 0, 0, 1, 1, 1, 0, 0, 1,\n",
              "       1, 1, 1, 1, 0, 0, 1, 0, 0, 1, 1, 1, 1, 0, 0, 0, 0, 1, 1, 1, 1, 0,\n",
              "       0, 1, 1, 0, 1, 1, 0, 0, 0, 1, 1, 0, 0, 0, 0, 0, 0, 0, 0, 1, 0, 0,\n",
              "       1, 1, 0, 0, 0, 1, 1, 0, 1, 1, 1, 1, 1, 0, 0, 1, 1, 1, 1, 1, 1, 0,\n",
              "       0, 0, 0, 1, 0, 1, 1, 1, 1, 0, 0, 1, 0, 1, 0, 1, 0, 0, 0, 1, 1, 1,\n",
              "       0, 1])"
            ]
          },
          "metadata": {},
          "execution_count": 17
        }
      ]
    },
    {
      "cell_type": "code",
      "source": [
        "from sklearn.metrics import accuracy_score\n",
        "from sklearn.metrics import precision_score\n",
        "from sklearn.metrics import recall_score\n",
        "\n",
        "score1 = accuracy_score(y_test,y_predict)\n",
        "score2 = precision_score(y_test,y_predict)\n",
        "score3 = recall_score(y_test,y_predict)\n",
        "\n",
        "print(f\"The accuracy score for the model is {score1*100}%\")\n",
        "print(f\"The precision score for the model is {score2*100}%\")\n",
        "print(f\"The recall score for the model is {score3*100}%\")\n"
      ],
      "metadata": {
        "colab": {
          "base_uri": "https://localhost:8080/"
        },
        "id": "xbK-l2_949ef",
        "outputId": "f2e94775-8e8e-40d9-a200-55522942e599"
      },
      "execution_count": 18,
      "outputs": [
        {
          "output_type": "stream",
          "name": "stdout",
          "text": [
            "The accuracy score for the model is 77.5%\n",
            "The precision score for the model is 77.22772277227723%\n",
            "The recall score for the model is 78.0%\n"
          ]
        }
      ]
    },
    {
      "cell_type": "code",
      "source": [
        "#TESTING THE MODEL AGAINST RANDOM INPUTS\n",
        "def predict_sentiment(sample_review):\n",
        "  sample_review = re.sub(pattern='[^a-zA-Z]',repl=' ',string = sample_review)\n",
        "  sample_review = sample_review.lower()\n",
        "  sample_review_words = sample_review.split()\n",
        "  sample_review_words = [ word for word in sample_review_words if not word in set(stopwords.words('english'))]\n",
        "  final_review = [ps().stem(word) for word in sample_review_words]\n",
        "  final_review = ' '.join(final_review)\n",
        "\n",
        "  temp = cv.transform([final_review]).toarray()\n",
        "  return classifier.predict(temp)\n"
      ],
      "metadata": {
        "id": "ZcAr6_EP5CE5"
      },
      "execution_count": 19,
      "outputs": []
    },
    {
      "cell_type": "code",
      "source": [
        "sample_review = ['The food is really wonderful',\n",
        "                 'The food is bad and service is also not good',\n",
        "                 'Not tasty and the texture was just nasty',\n",
        "                 'Highly recommended',\n",
        "                 'The worst was the salmon sashimi']\n",
        "i=1\n",
        "for sample in sample_review:\n",
        "  if predict_sentiment(sample):\n",
        "    print(f'The review {i} is Positive')\n",
        "  else:\n",
        "    print(f'The review {i} is Negative')\n",
        "  i+=1\n"
      ],
      "metadata": {
        "colab": {
          "base_uri": "https://localhost:8080/"
        },
        "id": "fdmErawn5Jzq",
        "outputId": "09caba51-0d6b-4342-bb58-5661f5fcd464"
      },
      "execution_count": 20,
      "outputs": [
        {
          "output_type": "stream",
          "name": "stdout",
          "text": [
            "The review 1 is Positive\n",
            "The review 2 is Positive\n",
            "The review 3 is Negative\n",
            "The review 4 is Positive\n",
            "The review 5 is Negative\n"
          ]
        }
      ]
    },
    {
      "cell_type": "code",
      "source": [
        "#DECISION TREE\n",
        "from sklearn.tree import DecisionTreeClassifier\n",
        "classifier = DecisionTreeClassifier(criterion=\"entropy\", max_depth=1)\n",
        "classifier.fit(X_train,y_train)\n"
      ],
      "metadata": {
        "colab": {
          "base_uri": "https://localhost:8080/",
          "height": 74
        },
        "id": "ZVWzWs5R5OqI",
        "outputId": "3af536d3-174d-461a-fbbc-59b74ff1155c"
      },
      "execution_count": 21,
      "outputs": [
        {
          "output_type": "execute_result",
          "data": {
            "text/plain": [
              "DecisionTreeClassifier(criterion='entropy', max_depth=1)"
            ],
            "text/html": [
              "<style>#sk-container-id-4 {color: black;background-color: white;}#sk-container-id-4 pre{padding: 0;}#sk-container-id-4 div.sk-toggleable {background-color: white;}#sk-container-id-4 label.sk-toggleable__label {cursor: pointer;display: block;width: 100%;margin-bottom: 0;padding: 0.3em;box-sizing: border-box;text-align: center;}#sk-container-id-4 label.sk-toggleable__label-arrow:before {content: \"▸\";float: left;margin-right: 0.25em;color: #696969;}#sk-container-id-4 label.sk-toggleable__label-arrow:hover:before {color: black;}#sk-container-id-4 div.sk-estimator:hover label.sk-toggleable__label-arrow:before {color: black;}#sk-container-id-4 div.sk-toggleable__content {max-height: 0;max-width: 0;overflow: hidden;text-align: left;background-color: #f0f8ff;}#sk-container-id-4 div.sk-toggleable__content pre {margin: 0.2em;color: black;border-radius: 0.25em;background-color: #f0f8ff;}#sk-container-id-4 input.sk-toggleable__control:checked~div.sk-toggleable__content {max-height: 200px;max-width: 100%;overflow: auto;}#sk-container-id-4 input.sk-toggleable__control:checked~label.sk-toggleable__label-arrow:before {content: \"▾\";}#sk-container-id-4 div.sk-estimator input.sk-toggleable__control:checked~label.sk-toggleable__label {background-color: #d4ebff;}#sk-container-id-4 div.sk-label input.sk-toggleable__control:checked~label.sk-toggleable__label {background-color: #d4ebff;}#sk-container-id-4 input.sk-hidden--visually {border: 0;clip: rect(1px 1px 1px 1px);clip: rect(1px, 1px, 1px, 1px);height: 1px;margin: -1px;overflow: hidden;padding: 0;position: absolute;width: 1px;}#sk-container-id-4 div.sk-estimator {font-family: monospace;background-color: #f0f8ff;border: 1px dotted black;border-radius: 0.25em;box-sizing: border-box;margin-bottom: 0.5em;}#sk-container-id-4 div.sk-estimator:hover {background-color: #d4ebff;}#sk-container-id-4 div.sk-parallel-item::after {content: \"\";width: 100%;border-bottom: 1px solid gray;flex-grow: 1;}#sk-container-id-4 div.sk-label:hover label.sk-toggleable__label {background-color: #d4ebff;}#sk-container-id-4 div.sk-serial::before {content: \"\";position: absolute;border-left: 1px solid gray;box-sizing: border-box;top: 0;bottom: 0;left: 50%;z-index: 0;}#sk-container-id-4 div.sk-serial {display: flex;flex-direction: column;align-items: center;background-color: white;padding-right: 0.2em;padding-left: 0.2em;position: relative;}#sk-container-id-4 div.sk-item {position: relative;z-index: 1;}#sk-container-id-4 div.sk-parallel {display: flex;align-items: stretch;justify-content: center;background-color: white;position: relative;}#sk-container-id-4 div.sk-item::before, #sk-container-id-4 div.sk-parallel-item::before {content: \"\";position: absolute;border-left: 1px solid gray;box-sizing: border-box;top: 0;bottom: 0;left: 50%;z-index: -1;}#sk-container-id-4 div.sk-parallel-item {display: flex;flex-direction: column;z-index: 1;position: relative;background-color: white;}#sk-container-id-4 div.sk-parallel-item:first-child::after {align-self: flex-end;width: 50%;}#sk-container-id-4 div.sk-parallel-item:last-child::after {align-self: flex-start;width: 50%;}#sk-container-id-4 div.sk-parallel-item:only-child::after {width: 0;}#sk-container-id-4 div.sk-dashed-wrapped {border: 1px dashed gray;margin: 0 0.4em 0.5em 0.4em;box-sizing: border-box;padding-bottom: 0.4em;background-color: white;}#sk-container-id-4 div.sk-label label {font-family: monospace;font-weight: bold;display: inline-block;line-height: 1.2em;}#sk-container-id-4 div.sk-label-container {text-align: center;}#sk-container-id-4 div.sk-container {/* jupyter's `normalize.less` sets `[hidden] { display: none; }` but bootstrap.min.css set `[hidden] { display: none !important; }` so we also need the `!important` here to be able to override the default hidden behavior on the sphinx rendered scikit-learn.org. See: https://github.com/scikit-learn/scikit-learn/issues/21755 */display: inline-block !important;position: relative;}#sk-container-id-4 div.sk-text-repr-fallback {display: none;}</style><div id=\"sk-container-id-4\" class=\"sk-top-container\"><div class=\"sk-text-repr-fallback\"><pre>DecisionTreeClassifier(criterion=&#x27;entropy&#x27;, max_depth=1)</pre><b>In a Jupyter environment, please rerun this cell to show the HTML representation or trust the notebook. <br />On GitHub, the HTML representation is unable to render, please try loading this page with nbviewer.org.</b></div><div class=\"sk-container\" hidden><div class=\"sk-item\"><div class=\"sk-estimator sk-toggleable\"><input class=\"sk-toggleable__control sk-hidden--visually\" id=\"sk-estimator-id-4\" type=\"checkbox\" checked><label for=\"sk-estimator-id-4\" class=\"sk-toggleable__label sk-toggleable__label-arrow\">DecisionTreeClassifier</label><div class=\"sk-toggleable__content\"><pre>DecisionTreeClassifier(criterion=&#x27;entropy&#x27;, max_depth=1)</pre></div></div></div></div></div>"
            ]
          },
          "metadata": {},
          "execution_count": 21
        }
      ]
    },
    {
      "cell_type": "code",
      "source": [
        "y_predict = classifier.predict(X_test)\n",
        "y_predict\n"
      ],
      "metadata": {
        "colab": {
          "base_uri": "https://localhost:8080/"
        },
        "id": "iGXRFZ5i5UVC",
        "outputId": "6594ee8f-783e-4871-da31-c977f0f714c9"
      },
      "execution_count": 22,
      "outputs": [
        {
          "output_type": "execute_result",
          "data": {
            "text/plain": [
              "array([0, 0, 0, 0, 0, 0, 0, 0, 0, 0, 1, 0, 0, 0, 1, 0, 0, 0, 0, 0, 0, 0,\n",
              "       1, 0, 1, 0, 0, 0, 0, 0, 1, 0, 0, 0, 0, 0, 0, 0, 1, 0, 0, 0, 0, 0,\n",
              "       0, 0, 0, 0, 0, 0, 1, 0, 0, 0, 0, 0, 0, 0, 0, 0, 0, 0, 0, 0, 1, 0,\n",
              "       0, 1, 0, 0, 0, 0, 0, 0, 0, 0, 0, 0, 0, 0, 0, 0, 0, 0, 0, 0, 0, 0,\n",
              "       0, 0, 0, 0, 0, 0, 0, 0, 0, 1, 0, 0, 0, 0, 0, 0, 0, 0, 0, 0, 0, 0,\n",
              "       0, 0, 0, 0, 0, 0, 0, 0, 0, 1, 0, 0, 0, 0, 0, 0, 0, 0, 0, 0, 0, 0,\n",
              "       0, 0, 0, 0, 0, 0, 0, 0, 0, 1, 0, 0, 0, 0, 0, 0, 0, 0, 0, 1, 0, 0,\n",
              "       0, 0, 0, 0, 0, 0, 0, 0, 0, 0, 1, 0, 0, 0, 0, 0, 0, 0, 1, 0, 0, 0,\n",
              "       0, 0, 0, 0, 0, 0, 0, 0, 1, 0, 0, 0, 0, 0, 0, 0, 0, 0, 0, 0, 0, 0,\n",
              "       0, 0])"
            ]
          },
          "metadata": {},
          "execution_count": 22
        }
      ]
    },
    {
      "cell_type": "code",
      "source": [
        "from sklearn.metrics import accuracy_score\n",
        "from sklearn.metrics import precision_score\n",
        "from sklearn.metrics import recall_score\n",
        "\n",
        "score1 = accuracy_score(y_test,y_predict)\n",
        "score2 = precision_score(y_test,y_predict)\n",
        "score3 = recall_score(y_test,y_predict)\n",
        "\n",
        "print(f\"The accuracy score for the model is {score1*100}%\")\n",
        "print(f\"The precision score for the model is {score2*100}%\")\n",
        "print(f\"The recall score for the model is {score3*100}%\")\n"
      ],
      "metadata": {
        "colab": {
          "base_uri": "https://localhost:8080/"
        },
        "id": "9dD9uZ425ZYU",
        "outputId": "84ea2a13-7357-40f5-dcb0-1e5027269abc"
      },
      "execution_count": 23,
      "outputs": [
        {
          "output_type": "stream",
          "name": "stdout",
          "text": [
            "The accuracy score for the model is 57.99999999999999%\n",
            "The precision score for the model is 100.0%\n",
            "The recall score for the model is 16.0%\n"
          ]
        }
      ]
    },
    {
      "cell_type": "code",
      "source": [
        "#HYPERPARAMETER TUNING\n",
        "best_score = 0.0\n",
        "dep = 0\n",
        "for i in range (10,100):\n",
        "  classifier = DecisionTreeClassifier(criterion=\"entropy\", max_depth=i)\n",
        "  classifier.fit(X_train,y_train)\n",
        "  y_predict = classifier.predict(X_test)\n",
        "  score = accuracy_score(y_test,y_predict)\n",
        "  if score > best_score:\n",
        "    best_score = score\n",
        "    dep = i\n",
        "\n",
        "print(\"Best accuracy Score is \"+str(best_score*100)+\" for max_depth \"+str(dep))\n"
      ],
      "metadata": {
        "colab": {
          "base_uri": "https://localhost:8080/"
        },
        "id": "Qwey2ryM5e-e",
        "outputId": "bbca0348-8f70-445a-ed24-89b1beadea12"
      },
      "execution_count": 24,
      "outputs": [
        {
          "output_type": "stream",
          "name": "stdout",
          "text": [
            "Best accuracy Score is 79.5 for max_depth 37\n"
          ]
        }
      ]
    },
    {
      "cell_type": "code",
      "source": [
        "#USING THE BEST MODEL\n",
        "from sklearn.tree import DecisionTreeClassifier\n",
        "classifier = DecisionTreeClassifier(criterion=\"entropy\", max_depth=30)\n",
        "classifier.fit(X_train,y_train)\n"
      ],
      "metadata": {
        "colab": {
          "base_uri": "https://localhost:8080/",
          "height": 74
        },
        "id": "7mk8Uvlg5yHz",
        "outputId": "bfdcb30a-9342-45e1-fad1-6a41d71098fe"
      },
      "execution_count": 25,
      "outputs": [
        {
          "output_type": "execute_result",
          "data": {
            "text/plain": [
              "DecisionTreeClassifier(criterion='entropy', max_depth=30)"
            ],
            "text/html": [
              "<style>#sk-container-id-5 {color: black;background-color: white;}#sk-container-id-5 pre{padding: 0;}#sk-container-id-5 div.sk-toggleable {background-color: white;}#sk-container-id-5 label.sk-toggleable__label {cursor: pointer;display: block;width: 100%;margin-bottom: 0;padding: 0.3em;box-sizing: border-box;text-align: center;}#sk-container-id-5 label.sk-toggleable__label-arrow:before {content: \"▸\";float: left;margin-right: 0.25em;color: #696969;}#sk-container-id-5 label.sk-toggleable__label-arrow:hover:before {color: black;}#sk-container-id-5 div.sk-estimator:hover label.sk-toggleable__label-arrow:before {color: black;}#sk-container-id-5 div.sk-toggleable__content {max-height: 0;max-width: 0;overflow: hidden;text-align: left;background-color: #f0f8ff;}#sk-container-id-5 div.sk-toggleable__content pre {margin: 0.2em;color: black;border-radius: 0.25em;background-color: #f0f8ff;}#sk-container-id-5 input.sk-toggleable__control:checked~div.sk-toggleable__content {max-height: 200px;max-width: 100%;overflow: auto;}#sk-container-id-5 input.sk-toggleable__control:checked~label.sk-toggleable__label-arrow:before {content: \"▾\";}#sk-container-id-5 div.sk-estimator input.sk-toggleable__control:checked~label.sk-toggleable__label {background-color: #d4ebff;}#sk-container-id-5 div.sk-label input.sk-toggleable__control:checked~label.sk-toggleable__label {background-color: #d4ebff;}#sk-container-id-5 input.sk-hidden--visually {border: 0;clip: rect(1px 1px 1px 1px);clip: rect(1px, 1px, 1px, 1px);height: 1px;margin: -1px;overflow: hidden;padding: 0;position: absolute;width: 1px;}#sk-container-id-5 div.sk-estimator {font-family: monospace;background-color: #f0f8ff;border: 1px dotted black;border-radius: 0.25em;box-sizing: border-box;margin-bottom: 0.5em;}#sk-container-id-5 div.sk-estimator:hover {background-color: #d4ebff;}#sk-container-id-5 div.sk-parallel-item::after {content: \"\";width: 100%;border-bottom: 1px solid gray;flex-grow: 1;}#sk-container-id-5 div.sk-label:hover label.sk-toggleable__label {background-color: #d4ebff;}#sk-container-id-5 div.sk-serial::before {content: \"\";position: absolute;border-left: 1px solid gray;box-sizing: border-box;top: 0;bottom: 0;left: 50%;z-index: 0;}#sk-container-id-5 div.sk-serial {display: flex;flex-direction: column;align-items: center;background-color: white;padding-right: 0.2em;padding-left: 0.2em;position: relative;}#sk-container-id-5 div.sk-item {position: relative;z-index: 1;}#sk-container-id-5 div.sk-parallel {display: flex;align-items: stretch;justify-content: center;background-color: white;position: relative;}#sk-container-id-5 div.sk-item::before, #sk-container-id-5 div.sk-parallel-item::before {content: \"\";position: absolute;border-left: 1px solid gray;box-sizing: border-box;top: 0;bottom: 0;left: 50%;z-index: -1;}#sk-container-id-5 div.sk-parallel-item {display: flex;flex-direction: column;z-index: 1;position: relative;background-color: white;}#sk-container-id-5 div.sk-parallel-item:first-child::after {align-self: flex-end;width: 50%;}#sk-container-id-5 div.sk-parallel-item:last-child::after {align-self: flex-start;width: 50%;}#sk-container-id-5 div.sk-parallel-item:only-child::after {width: 0;}#sk-container-id-5 div.sk-dashed-wrapped {border: 1px dashed gray;margin: 0 0.4em 0.5em 0.4em;box-sizing: border-box;padding-bottom: 0.4em;background-color: white;}#sk-container-id-5 div.sk-label label {font-family: monospace;font-weight: bold;display: inline-block;line-height: 1.2em;}#sk-container-id-5 div.sk-label-container {text-align: center;}#sk-container-id-5 div.sk-container {/* jupyter's `normalize.less` sets `[hidden] { display: none; }` but bootstrap.min.css set `[hidden] { display: none !important; }` so we also need the `!important` here to be able to override the default hidden behavior on the sphinx rendered scikit-learn.org. See: https://github.com/scikit-learn/scikit-learn/issues/21755 */display: inline-block !important;position: relative;}#sk-container-id-5 div.sk-text-repr-fallback {display: none;}</style><div id=\"sk-container-id-5\" class=\"sk-top-container\"><div class=\"sk-text-repr-fallback\"><pre>DecisionTreeClassifier(criterion=&#x27;entropy&#x27;, max_depth=30)</pre><b>In a Jupyter environment, please rerun this cell to show the HTML representation or trust the notebook. <br />On GitHub, the HTML representation is unable to render, please try loading this page with nbviewer.org.</b></div><div class=\"sk-container\" hidden><div class=\"sk-item\"><div class=\"sk-estimator sk-toggleable\"><input class=\"sk-toggleable__control sk-hidden--visually\" id=\"sk-estimator-id-5\" type=\"checkbox\" checked><label for=\"sk-estimator-id-5\" class=\"sk-toggleable__label sk-toggleable__label-arrow\">DecisionTreeClassifier</label><div class=\"sk-toggleable__content\"><pre>DecisionTreeClassifier(criterion=&#x27;entropy&#x27;, max_depth=30)</pre></div></div></div></div></div>"
            ]
          },
          "metadata": {},
          "execution_count": 25
        }
      ]
    },
    {
      "cell_type": "code",
      "source": [
        "y_predict = classifier.predict(X_test)\n",
        "y_predict\n"
      ],
      "metadata": {
        "colab": {
          "base_uri": "https://localhost:8080/"
        },
        "id": "EDvDTM5554jy",
        "outputId": "e421f143-261b-4100-b3af-42e18ef72845"
      },
      "execution_count": 26,
      "outputs": [
        {
          "output_type": "execute_result",
          "data": {
            "text/plain": [
              "array([1, 0, 0, 0, 1, 0, 0, 1, 0, 0, 1, 1, 1, 0, 1, 0, 0, 1, 0, 1, 0, 0,\n",
              "       1, 0, 1, 0, 0, 0, 1, 0, 1, 1, 0, 0, 0, 1, 1, 0, 1, 0, 1, 1, 0, 0,\n",
              "       0, 1, 0, 0, 1, 0, 1, 0, 0, 1, 0, 1, 0, 0, 0, 0, 0, 0, 0, 0, 1, 0,\n",
              "       0, 1, 0, 0, 0, 1, 0, 0, 1, 0, 0, 0, 1, 1, 0, 0, 0, 1, 0, 1, 0, 0,\n",
              "       0, 1, 1, 0, 0, 0, 1, 0, 1, 1, 1, 0, 0, 0, 0, 0, 1, 0, 0, 0, 0, 0,\n",
              "       1, 1, 0, 1, 0, 0, 0, 0, 0, 1, 0, 1, 1, 0, 0, 0, 0, 1, 1, 1, 1, 0,\n",
              "       0, 0, 1, 0, 1, 0, 0, 0, 0, 1, 0, 0, 0, 0, 0, 0, 0, 0, 0, 1, 1, 0,\n",
              "       1, 1, 0, 0, 0, 0, 1, 0, 1, 1, 1, 1, 0, 0, 0, 1, 1, 1, 1, 0, 1, 1,\n",
              "       0, 0, 0, 1, 0, 0, 1, 1, 1, 0, 0, 1, 0, 1, 0, 1, 0, 0, 0, 1, 0, 1,\n",
              "       0, 0])"
            ]
          },
          "metadata": {},
          "execution_count": 26
        }
      ]
    },
    {
      "cell_type": "code",
      "source": [
        "from sklearn.metrics import accuracy_score\n",
        "from sklearn.metrics import precision_score\n",
        "from sklearn.metrics import recall_score\n",
        "\n",
        "score1 = accuracy_score(y_test,y_predict)\n",
        "score2 = precision_score(y_test,y_predict)\n",
        "score3 = recall_score(y_test,y_predict)\n",
        "\n",
        "print(f\"The accuracy score for the model is {score1*100}%\")\n",
        "print(f\"The precision score for the model is {score2*100}%\")\n",
        "print(f\"The recall score for the model is {score3*100}%\")\n"
      ],
      "metadata": {
        "colab": {
          "base_uri": "https://localhost:8080/"
        },
        "id": "W5taHSxE5853",
        "outputId": "d28c64e3-69af-42a9-f767-2b98f058e8db"
      },
      "execution_count": 27,
      "outputs": [
        {
          "output_type": "stream",
          "name": "stdout",
          "text": [
            "The accuracy score for the model is 79.0%\n",
            "The precision score for the model is 88.1578947368421%\n",
            "The recall score for the model is 67.0%\n"
          ]
        }
      ]
    },
    {
      "cell_type": "code",
      "source": [
        "#TESTING THE MODEL USING RANDOM INPUTS\n",
        "def predict_sentiment(sample_review):\n",
        "  sample_review = re.sub(pattern='[^a-zA-Z]',repl=' ',string = sample_review)\n",
        "  sample_review = sample_review.lower()\n",
        "  sample_review_words = sample_review.split()\n",
        "  sample_review_words = [ word for word in sample_review_words if not word in set(stopwords.words('english'))]\n",
        "  final_review = [ps().stem(word) for word in sample_review_words]\n",
        "  final_review = ' '.join(final_review)\n",
        "\n",
        "  temp = cv.transform([final_review]).toarray()\n",
        "  return classifier.predict(temp)\n"
      ],
      "metadata": {
        "id": "T0LAttKY6AlQ"
      },
      "execution_count": 28,
      "outputs": []
    },
    {
      "cell_type": "code",
      "source": [
        "sample_review = ['The food is really wonderful',\n",
        "                 'The food is bad and service is also not good',\n",
        "                 'Not tasty and the texture was just nasty',\n",
        "                 'Highly recommended',\n",
        "                 'The worst was the salmon sashimi']\n",
        "i=1\n",
        "for sample in sample_review:\n",
        "  if predict_sentiment(sample):\n",
        "    print(f'The review {i} is Positive')\n",
        "  else:\n",
        "    print(f'The review {i} is Negative')\n",
        "  i+=1\n"
      ],
      "metadata": {
        "colab": {
          "base_uri": "https://localhost:8080/"
        },
        "id": "wl7_AnRl6IcZ",
        "outputId": "519c4831-d71c-40ef-cbdd-55d58f0d04ad"
      },
      "execution_count": 29,
      "outputs": [
        {
          "output_type": "stream",
          "name": "stdout",
          "text": [
            "The review 1 is Positive\n",
            "The review 2 is Positive\n",
            "The review 3 is Negative\n",
            "The review 4 is Negative\n",
            "The review 5 is Negative\n"
          ]
        }
      ]
    },
    {
      "cell_type": "code",
      "source": [
        "#RANDOM FOREST CLASSIFIER\n",
        "\n",
        "from sklearn.ensemble import RandomForestClassifier\n",
        "classifier = RandomForestClassifier(criterion=\"entropy\")\n",
        "classifier.fit(X_train,y_train)\n"
      ],
      "metadata": {
        "colab": {
          "base_uri": "https://localhost:8080/",
          "height": 74
        },
        "id": "y6qZKkRN6Nlw",
        "outputId": "3a6deb1e-fbd8-4579-b34c-7017b868f788"
      },
      "execution_count": 30,
      "outputs": [
        {
          "output_type": "execute_result",
          "data": {
            "text/plain": [
              "RandomForestClassifier(criterion='entropy')"
            ],
            "text/html": [
              "<style>#sk-container-id-6 {color: black;background-color: white;}#sk-container-id-6 pre{padding: 0;}#sk-container-id-6 div.sk-toggleable {background-color: white;}#sk-container-id-6 label.sk-toggleable__label {cursor: pointer;display: block;width: 100%;margin-bottom: 0;padding: 0.3em;box-sizing: border-box;text-align: center;}#sk-container-id-6 label.sk-toggleable__label-arrow:before {content: \"▸\";float: left;margin-right: 0.25em;color: #696969;}#sk-container-id-6 label.sk-toggleable__label-arrow:hover:before {color: black;}#sk-container-id-6 div.sk-estimator:hover label.sk-toggleable__label-arrow:before {color: black;}#sk-container-id-6 div.sk-toggleable__content {max-height: 0;max-width: 0;overflow: hidden;text-align: left;background-color: #f0f8ff;}#sk-container-id-6 div.sk-toggleable__content pre {margin: 0.2em;color: black;border-radius: 0.25em;background-color: #f0f8ff;}#sk-container-id-6 input.sk-toggleable__control:checked~div.sk-toggleable__content {max-height: 200px;max-width: 100%;overflow: auto;}#sk-container-id-6 input.sk-toggleable__control:checked~label.sk-toggleable__label-arrow:before {content: \"▾\";}#sk-container-id-6 div.sk-estimator input.sk-toggleable__control:checked~label.sk-toggleable__label {background-color: #d4ebff;}#sk-container-id-6 div.sk-label input.sk-toggleable__control:checked~label.sk-toggleable__label {background-color: #d4ebff;}#sk-container-id-6 input.sk-hidden--visually {border: 0;clip: rect(1px 1px 1px 1px);clip: rect(1px, 1px, 1px, 1px);height: 1px;margin: -1px;overflow: hidden;padding: 0;position: absolute;width: 1px;}#sk-container-id-6 div.sk-estimator {font-family: monospace;background-color: #f0f8ff;border: 1px dotted black;border-radius: 0.25em;box-sizing: border-box;margin-bottom: 0.5em;}#sk-container-id-6 div.sk-estimator:hover {background-color: #d4ebff;}#sk-container-id-6 div.sk-parallel-item::after {content: \"\";width: 100%;border-bottom: 1px solid gray;flex-grow: 1;}#sk-container-id-6 div.sk-label:hover label.sk-toggleable__label {background-color: #d4ebff;}#sk-container-id-6 div.sk-serial::before {content: \"\";position: absolute;border-left: 1px solid gray;box-sizing: border-box;top: 0;bottom: 0;left: 50%;z-index: 0;}#sk-container-id-6 div.sk-serial {display: flex;flex-direction: column;align-items: center;background-color: white;padding-right: 0.2em;padding-left: 0.2em;position: relative;}#sk-container-id-6 div.sk-item {position: relative;z-index: 1;}#sk-container-id-6 div.sk-parallel {display: flex;align-items: stretch;justify-content: center;background-color: white;position: relative;}#sk-container-id-6 div.sk-item::before, #sk-container-id-6 div.sk-parallel-item::before {content: \"\";position: absolute;border-left: 1px solid gray;box-sizing: border-box;top: 0;bottom: 0;left: 50%;z-index: -1;}#sk-container-id-6 div.sk-parallel-item {display: flex;flex-direction: column;z-index: 1;position: relative;background-color: white;}#sk-container-id-6 div.sk-parallel-item:first-child::after {align-self: flex-end;width: 50%;}#sk-container-id-6 div.sk-parallel-item:last-child::after {align-self: flex-start;width: 50%;}#sk-container-id-6 div.sk-parallel-item:only-child::after {width: 0;}#sk-container-id-6 div.sk-dashed-wrapped {border: 1px dashed gray;margin: 0 0.4em 0.5em 0.4em;box-sizing: border-box;padding-bottom: 0.4em;background-color: white;}#sk-container-id-6 div.sk-label label {font-family: monospace;font-weight: bold;display: inline-block;line-height: 1.2em;}#sk-container-id-6 div.sk-label-container {text-align: center;}#sk-container-id-6 div.sk-container {/* jupyter's `normalize.less` sets `[hidden] { display: none; }` but bootstrap.min.css set `[hidden] { display: none !important; }` so we also need the `!important` here to be able to override the default hidden behavior on the sphinx rendered scikit-learn.org. See: https://github.com/scikit-learn/scikit-learn/issues/21755 */display: inline-block !important;position: relative;}#sk-container-id-6 div.sk-text-repr-fallback {display: none;}</style><div id=\"sk-container-id-6\" class=\"sk-top-container\"><div class=\"sk-text-repr-fallback\"><pre>RandomForestClassifier(criterion=&#x27;entropy&#x27;)</pre><b>In a Jupyter environment, please rerun this cell to show the HTML representation or trust the notebook. <br />On GitHub, the HTML representation is unable to render, please try loading this page with nbviewer.org.</b></div><div class=\"sk-container\" hidden><div class=\"sk-item\"><div class=\"sk-estimator sk-toggleable\"><input class=\"sk-toggleable__control sk-hidden--visually\" id=\"sk-estimator-id-6\" type=\"checkbox\" checked><label for=\"sk-estimator-id-6\" class=\"sk-toggleable__label sk-toggleable__label-arrow\">RandomForestClassifier</label><div class=\"sk-toggleable__content\"><pre>RandomForestClassifier(criterion=&#x27;entropy&#x27;)</pre></div></div></div></div></div>"
            ]
          },
          "metadata": {},
          "execution_count": 30
        }
      ]
    },
    {
      "cell_type": "code",
      "source": [
        "y_predict = classifier.predict(X_test)\n",
        "y_predict\n"
      ],
      "metadata": {
        "colab": {
          "base_uri": "https://localhost:8080/"
        },
        "id": "uQZkLZkk6Z6n",
        "outputId": "3e09f205-d4a9-4480-a6ac-9ba6851cced0"
      },
      "execution_count": 31,
      "outputs": [
        {
          "output_type": "execute_result",
          "data": {
            "text/plain": [
              "array([1, 0, 0, 0, 1, 0, 0, 1, 0, 0, 1, 1, 1, 0, 1, 0, 1, 1, 0, 0, 0, 0,\n",
              "       1, 1, 1, 0, 0, 0, 1, 0, 1, 1, 0, 1, 0, 1, 1, 0, 1, 0, 1, 1, 1, 0,\n",
              "       0, 1, 0, 0, 1, 0, 1, 1, 0, 1, 0, 1, 0, 0, 0, 0, 0, 0, 0, 1, 1, 0,\n",
              "       0, 1, 0, 0, 1, 1, 1, 1, 1, 0, 0, 0, 1, 0, 0, 0, 0, 1, 0, 1, 0, 0,\n",
              "       0, 1, 1, 0, 0, 0, 1, 0, 0, 1, 1, 0, 0, 0, 0, 0, 1, 0, 1, 0, 0, 0,\n",
              "       0, 0, 1, 1, 0, 0, 1, 0, 0, 1, 1, 1, 0, 0, 0, 0, 0, 1, 1, 0, 1, 0,\n",
              "       0, 1, 1, 0, 0, 1, 0, 0, 0, 1, 1, 0, 0, 0, 0, 0, 0, 0, 0, 1, 1, 0,\n",
              "       1, 1, 0, 0, 0, 0, 1, 0, 1, 1, 1, 1, 1, 0, 0, 1, 1, 1, 1, 0, 1, 0,\n",
              "       0, 0, 0, 1, 0, 1, 1, 1, 1, 0, 0, 1, 0, 1, 0, 0, 0, 0, 0, 1, 1, 1,\n",
              "       0, 0])"
            ]
          },
          "metadata": {},
          "execution_count": 31
        }
      ]
    },
    {
      "cell_type": "code",
      "source": [
        "from sklearn.metrics import accuracy_score\n",
        "from sklearn.metrics import precision_score\n",
        "from sklearn.metrics import recall_score\n",
        "\n",
        "score1 = accuracy_score(y_test,y_predict)\n",
        "score2 = precision_score(y_test,y_predict)\n",
        "score3 = recall_score(y_test,y_predict)\n",
        "\n",
        "print(f\"The accuracy score for the model is {score1*100}%\")\n",
        "print(f\"The precision score for the model is {score2*100}%\")\n",
        "print(f\"The recall score for the model is {score3*100}%\")\n"
      ],
      "metadata": {
        "colab": {
          "base_uri": "https://localhost:8080/"
        },
        "id": "geKWFAeh6fzJ",
        "outputId": "428a498a-9e1c-42d9-a2d0-eb411e5398f4"
      },
      "execution_count": 32,
      "outputs": [
        {
          "output_type": "stream",
          "name": "stdout",
          "text": [
            "The accuracy score for the model is 75.5%\n",
            "The precision score for the model is 80.0%\n",
            "The recall score for the model is 68.0%\n"
          ]
        }
      ]
    },
    {
      "cell_type": "code",
      "source": [
        "#HYPERPARAMETER TUNING\n",
        "best_score = 0.0\n",
        "dep = 0\n",
        "for i in range (1,50):\n",
        "  classifier = RandomForestClassifier(criterion=\"entropy\", max_depth=i)\n",
        "  classifier.fit(X_train,y_train)\n",
        "  y_predict = classifier.predict(X_test)\n",
        "  score = accuracy_score(y_test,y_predict)\n",
        "  if score > best_score:\n",
        "    best_score = score\n",
        "    dep = i\n",
        "\n",
        "print(\"Best accuracy Score is \"+str(best_score*100)+\" for max_depth \"+str(dep))\n"
      ],
      "metadata": {
        "colab": {
          "base_uri": "https://localhost:8080/"
        },
        "id": "KxcmID1M6mL2",
        "outputId": "2e3636f5-cac9-423a-e5e5-89b673ecb515"
      },
      "execution_count": 33,
      "outputs": [
        {
          "output_type": "stream",
          "name": "stdout",
          "text": [
            "Best accuracy Score is 81.5 for max_depth 17\n"
          ]
        }
      ]
    },
    {
      "cell_type": "code",
      "source": [
        "#USING THE BEST MODEL AS PER HYPERPARAMETER TUNING\n",
        "from sklearn.ensemble import RandomForestClassifier\n",
        "classifier = RandomForestClassifier(criterion=\"entropy\", max_depth=dep)\n",
        "classifier.fit(X_train,y_train)\n"
      ],
      "metadata": {
        "colab": {
          "base_uri": "https://localhost:8080/",
          "height": 74
        },
        "id": "iNvR6_JV7DzE",
        "outputId": "a9e8e15b-ac37-476d-df5e-ec0d995080fd"
      },
      "execution_count": 34,
      "outputs": [
        {
          "output_type": "execute_result",
          "data": {
            "text/plain": [
              "RandomForestClassifier(criterion='entropy', max_depth=17)"
            ],
            "text/html": [
              "<style>#sk-container-id-7 {color: black;background-color: white;}#sk-container-id-7 pre{padding: 0;}#sk-container-id-7 div.sk-toggleable {background-color: white;}#sk-container-id-7 label.sk-toggleable__label {cursor: pointer;display: block;width: 100%;margin-bottom: 0;padding: 0.3em;box-sizing: border-box;text-align: center;}#sk-container-id-7 label.sk-toggleable__label-arrow:before {content: \"▸\";float: left;margin-right: 0.25em;color: #696969;}#sk-container-id-7 label.sk-toggleable__label-arrow:hover:before {color: black;}#sk-container-id-7 div.sk-estimator:hover label.sk-toggleable__label-arrow:before {color: black;}#sk-container-id-7 div.sk-toggleable__content {max-height: 0;max-width: 0;overflow: hidden;text-align: left;background-color: #f0f8ff;}#sk-container-id-7 div.sk-toggleable__content pre {margin: 0.2em;color: black;border-radius: 0.25em;background-color: #f0f8ff;}#sk-container-id-7 input.sk-toggleable__control:checked~div.sk-toggleable__content {max-height: 200px;max-width: 100%;overflow: auto;}#sk-container-id-7 input.sk-toggleable__control:checked~label.sk-toggleable__label-arrow:before {content: \"▾\";}#sk-container-id-7 div.sk-estimator input.sk-toggleable__control:checked~label.sk-toggleable__label {background-color: #d4ebff;}#sk-container-id-7 div.sk-label input.sk-toggleable__control:checked~label.sk-toggleable__label {background-color: #d4ebff;}#sk-container-id-7 input.sk-hidden--visually {border: 0;clip: rect(1px 1px 1px 1px);clip: rect(1px, 1px, 1px, 1px);height: 1px;margin: -1px;overflow: hidden;padding: 0;position: absolute;width: 1px;}#sk-container-id-7 div.sk-estimator {font-family: monospace;background-color: #f0f8ff;border: 1px dotted black;border-radius: 0.25em;box-sizing: border-box;margin-bottom: 0.5em;}#sk-container-id-7 div.sk-estimator:hover {background-color: #d4ebff;}#sk-container-id-7 div.sk-parallel-item::after {content: \"\";width: 100%;border-bottom: 1px solid gray;flex-grow: 1;}#sk-container-id-7 div.sk-label:hover label.sk-toggleable__label {background-color: #d4ebff;}#sk-container-id-7 div.sk-serial::before {content: \"\";position: absolute;border-left: 1px solid gray;box-sizing: border-box;top: 0;bottom: 0;left: 50%;z-index: 0;}#sk-container-id-7 div.sk-serial {display: flex;flex-direction: column;align-items: center;background-color: white;padding-right: 0.2em;padding-left: 0.2em;position: relative;}#sk-container-id-7 div.sk-item {position: relative;z-index: 1;}#sk-container-id-7 div.sk-parallel {display: flex;align-items: stretch;justify-content: center;background-color: white;position: relative;}#sk-container-id-7 div.sk-item::before, #sk-container-id-7 div.sk-parallel-item::before {content: \"\";position: absolute;border-left: 1px solid gray;box-sizing: border-box;top: 0;bottom: 0;left: 50%;z-index: -1;}#sk-container-id-7 div.sk-parallel-item {display: flex;flex-direction: column;z-index: 1;position: relative;background-color: white;}#sk-container-id-7 div.sk-parallel-item:first-child::after {align-self: flex-end;width: 50%;}#sk-container-id-7 div.sk-parallel-item:last-child::after {align-self: flex-start;width: 50%;}#sk-container-id-7 div.sk-parallel-item:only-child::after {width: 0;}#sk-container-id-7 div.sk-dashed-wrapped {border: 1px dashed gray;margin: 0 0.4em 0.5em 0.4em;box-sizing: border-box;padding-bottom: 0.4em;background-color: white;}#sk-container-id-7 div.sk-label label {font-family: monospace;font-weight: bold;display: inline-block;line-height: 1.2em;}#sk-container-id-7 div.sk-label-container {text-align: center;}#sk-container-id-7 div.sk-container {/* jupyter's `normalize.less` sets `[hidden] { display: none; }` but bootstrap.min.css set `[hidden] { display: none !important; }` so we also need the `!important` here to be able to override the default hidden behavior on the sphinx rendered scikit-learn.org. See: https://github.com/scikit-learn/scikit-learn/issues/21755 */display: inline-block !important;position: relative;}#sk-container-id-7 div.sk-text-repr-fallback {display: none;}</style><div id=\"sk-container-id-7\" class=\"sk-top-container\"><div class=\"sk-text-repr-fallback\"><pre>RandomForestClassifier(criterion=&#x27;entropy&#x27;, max_depth=17)</pre><b>In a Jupyter environment, please rerun this cell to show the HTML representation or trust the notebook. <br />On GitHub, the HTML representation is unable to render, please try loading this page with nbviewer.org.</b></div><div class=\"sk-container\" hidden><div class=\"sk-item\"><div class=\"sk-estimator sk-toggleable\"><input class=\"sk-toggleable__control sk-hidden--visually\" id=\"sk-estimator-id-7\" type=\"checkbox\" checked><label for=\"sk-estimator-id-7\" class=\"sk-toggleable__label sk-toggleable__label-arrow\">RandomForestClassifier</label><div class=\"sk-toggleable__content\"><pre>RandomForestClassifier(criterion=&#x27;entropy&#x27;, max_depth=17)</pre></div></div></div></div></div>"
            ]
          },
          "metadata": {},
          "execution_count": 34
        }
      ]
    },
    {
      "cell_type": "code",
      "source": [
        "y_predict = classifier.predict(X_test)\n",
        "y_predict\n"
      ],
      "metadata": {
        "colab": {
          "base_uri": "https://localhost:8080/"
        },
        "id": "91tLGhMW7N5i",
        "outputId": "9c336b85-0d35-45dc-f7b3-f71305794452"
      },
      "execution_count": 35,
      "outputs": [
        {
          "output_type": "execute_result",
          "data": {
            "text/plain": [
              "array([1, 0, 0, 1, 1, 0, 0, 1, 0, 0, 1, 1, 1, 0, 1, 0, 0, 1, 1, 0, 0, 0,\n",
              "       1, 1, 1, 1, 0, 0, 1, 0, 1, 1, 0, 1, 0, 1, 1, 0, 1, 0, 1, 1, 1, 0,\n",
              "       1, 1, 0, 0, 1, 0, 1, 0, 0, 1, 0, 1, 0, 0, 0, 0, 0, 0, 0, 0, 1, 1,\n",
              "       0, 1, 1, 0, 0, 1, 1, 1, 1, 0, 0, 0, 1, 1, 0, 0, 0, 1, 0, 1, 0, 0,\n",
              "       0, 1, 1, 0, 0, 0, 1, 0, 1, 1, 1, 0, 0, 0, 0, 0, 1, 1, 0, 0, 0, 0,\n",
              "       1, 1, 1, 1, 0, 0, 0, 0, 0, 1, 0, 1, 1, 1, 0, 0, 0, 1, 1, 1, 1, 0,\n",
              "       0, 0, 1, 0, 1, 1, 1, 0, 0, 1, 0, 0, 1, 0, 0, 0, 0, 0, 0, 1, 1, 0,\n",
              "       1, 1, 0, 0, 0, 1, 1, 1, 1, 1, 1, 1, 1, 0, 0, 1, 1, 1, 1, 0, 1, 0,\n",
              "       0, 0, 0, 1, 0, 1, 1, 1, 1, 0, 0, 1, 0, 1, 0, 1, 0, 0, 0, 1, 0, 1,\n",
              "       0, 0])"
            ]
          },
          "metadata": {},
          "execution_count": 35
        }
      ]
    },
    {
      "cell_type": "code",
      "source": [
        "\n",
        "from sklearn.metrics import accuracy_score\n",
        "from sklearn.metrics import precision_score\n",
        "from sklearn.metrics import recall_score\n",
        "\n",
        "score1 = accuracy_score(y_test,y_predict)\n",
        "score2 = precision_score(y_test,y_predict)\n",
        "score3 = recall_score(y_test,y_predict)\n",
        "\n",
        "print(f\"The accuracy score for the model is {score1*100}%\")\n",
        "print(f\"The precision score for the model is {score2*100}%\")\n",
        "print(f\"The recall score for the model is {score3*100}%\")"
      ],
      "metadata": {
        "colab": {
          "base_uri": "https://localhost:8080/"
        },
        "id": "tQzuG0zt7Tvg",
        "outputId": "3170a628-2f29-44de-f8ce-aff21ee2ec7b"
      },
      "execution_count": 36,
      "outputs": [
        {
          "output_type": "stream",
          "name": "stdout",
          "text": [
            "The accuracy score for the model is 78.5%\n",
            "The precision score for the model is 80.0%\n",
            "The recall score for the model is 76.0%\n"
          ]
        }
      ]
    },
    {
      "cell_type": "code",
      "source": [
        "#TESTING THE MODEL AGAINST RANDOM INPUT\n",
        "def predict_sentiment(sample_review):\n",
        "  sample_review = re.sub(pattern='[^a-zA-Z]',repl=' ',string = sample_review)\n",
        "  sample_review = sample_review.lower()\n",
        "  sample_review_words = sample_review.split()\n",
        "  sample_review_words = [ word for word in sample_review_words if not word in set(stopwords.words('english'))]\n",
        "  final_review = [ps().stem(word) for word in sample_review_words]\n",
        "  final_review = ' '.join(final_review)\n",
        "\n",
        "  temp = cv.transform([final_review]).toarray()\n",
        "  return classifier.predict(temp)\n"
      ],
      "metadata": {
        "id": "u7cvyXPk7ajQ"
      },
      "execution_count": 37,
      "outputs": []
    },
    {
      "cell_type": "code",
      "source": [
        "sample_review = ['The food is really wonderful',\n",
        "                 'The food is bad and service is also not good',\n",
        "                 'Not tasty and the texture was just nasty',\n",
        "                 'Highly recommended',\n",
        "                 'The worst was the salmon sashimi']\n",
        "i=1\n",
        "for sample in sample_review:\n",
        "  if predict_sentiment(sample):\n",
        "    print(f'The review {i} is Positive')\n",
        "  else:\n",
        "    print(f'The review {i} is Negative')\n",
        "  i+=1\n"
      ],
      "metadata": {
        "colab": {
          "base_uri": "https://localhost:8080/"
        },
        "id": "kwmm7sC57h6s",
        "outputId": "b17a9c86-f03d-43e0-a7aa-408c8f9d315a"
      },
      "execution_count": 38,
      "outputs": [
        {
          "output_type": "stream",
          "name": "stdout",
          "text": [
            "The review 1 is Positive\n",
            "The review 2 is Positive\n",
            "The review 3 is Negative\n",
            "The review 4 is Positive\n",
            "The review 5 is Negative\n"
          ]
        }
      ]
    },
    {
      "cell_type": "code",
      "source": [
        "#EXTRA TREES CLASSIFIER\n",
        "from sklearn.ensemble import ExtraTreesClassifier\n",
        "classifier = ExtraTreesClassifier()\n",
        "classifier.fit(X_train,y_train)\n"
      ],
      "metadata": {
        "colab": {
          "base_uri": "https://localhost:8080/",
          "height": 74
        },
        "id": "uMPq7TD77mkL",
        "outputId": "19c8bcc9-7566-4343-cdf7-cff7b1f421e6"
      },
      "execution_count": 39,
      "outputs": [
        {
          "output_type": "execute_result",
          "data": {
            "text/plain": [
              "ExtraTreesClassifier()"
            ],
            "text/html": [
              "<style>#sk-container-id-8 {color: black;background-color: white;}#sk-container-id-8 pre{padding: 0;}#sk-container-id-8 div.sk-toggleable {background-color: white;}#sk-container-id-8 label.sk-toggleable__label {cursor: pointer;display: block;width: 100%;margin-bottom: 0;padding: 0.3em;box-sizing: border-box;text-align: center;}#sk-container-id-8 label.sk-toggleable__label-arrow:before {content: \"▸\";float: left;margin-right: 0.25em;color: #696969;}#sk-container-id-8 label.sk-toggleable__label-arrow:hover:before {color: black;}#sk-container-id-8 div.sk-estimator:hover label.sk-toggleable__label-arrow:before {color: black;}#sk-container-id-8 div.sk-toggleable__content {max-height: 0;max-width: 0;overflow: hidden;text-align: left;background-color: #f0f8ff;}#sk-container-id-8 div.sk-toggleable__content pre {margin: 0.2em;color: black;border-radius: 0.25em;background-color: #f0f8ff;}#sk-container-id-8 input.sk-toggleable__control:checked~div.sk-toggleable__content {max-height: 200px;max-width: 100%;overflow: auto;}#sk-container-id-8 input.sk-toggleable__control:checked~label.sk-toggleable__label-arrow:before {content: \"▾\";}#sk-container-id-8 div.sk-estimator input.sk-toggleable__control:checked~label.sk-toggleable__label {background-color: #d4ebff;}#sk-container-id-8 div.sk-label input.sk-toggleable__control:checked~label.sk-toggleable__label {background-color: #d4ebff;}#sk-container-id-8 input.sk-hidden--visually {border: 0;clip: rect(1px 1px 1px 1px);clip: rect(1px, 1px, 1px, 1px);height: 1px;margin: -1px;overflow: hidden;padding: 0;position: absolute;width: 1px;}#sk-container-id-8 div.sk-estimator {font-family: monospace;background-color: #f0f8ff;border: 1px dotted black;border-radius: 0.25em;box-sizing: border-box;margin-bottom: 0.5em;}#sk-container-id-8 div.sk-estimator:hover {background-color: #d4ebff;}#sk-container-id-8 div.sk-parallel-item::after {content: \"\";width: 100%;border-bottom: 1px solid gray;flex-grow: 1;}#sk-container-id-8 div.sk-label:hover label.sk-toggleable__label {background-color: #d4ebff;}#sk-container-id-8 div.sk-serial::before {content: \"\";position: absolute;border-left: 1px solid gray;box-sizing: border-box;top: 0;bottom: 0;left: 50%;z-index: 0;}#sk-container-id-8 div.sk-serial {display: flex;flex-direction: column;align-items: center;background-color: white;padding-right: 0.2em;padding-left: 0.2em;position: relative;}#sk-container-id-8 div.sk-item {position: relative;z-index: 1;}#sk-container-id-8 div.sk-parallel {display: flex;align-items: stretch;justify-content: center;background-color: white;position: relative;}#sk-container-id-8 div.sk-item::before, #sk-container-id-8 div.sk-parallel-item::before {content: \"\";position: absolute;border-left: 1px solid gray;box-sizing: border-box;top: 0;bottom: 0;left: 50%;z-index: -1;}#sk-container-id-8 div.sk-parallel-item {display: flex;flex-direction: column;z-index: 1;position: relative;background-color: white;}#sk-container-id-8 div.sk-parallel-item:first-child::after {align-self: flex-end;width: 50%;}#sk-container-id-8 div.sk-parallel-item:last-child::after {align-self: flex-start;width: 50%;}#sk-container-id-8 div.sk-parallel-item:only-child::after {width: 0;}#sk-container-id-8 div.sk-dashed-wrapped {border: 1px dashed gray;margin: 0 0.4em 0.5em 0.4em;box-sizing: border-box;padding-bottom: 0.4em;background-color: white;}#sk-container-id-8 div.sk-label label {font-family: monospace;font-weight: bold;display: inline-block;line-height: 1.2em;}#sk-container-id-8 div.sk-label-container {text-align: center;}#sk-container-id-8 div.sk-container {/* jupyter's `normalize.less` sets `[hidden] { display: none; }` but bootstrap.min.css set `[hidden] { display: none !important; }` so we also need the `!important` here to be able to override the default hidden behavior on the sphinx rendered scikit-learn.org. See: https://github.com/scikit-learn/scikit-learn/issues/21755 */display: inline-block !important;position: relative;}#sk-container-id-8 div.sk-text-repr-fallback {display: none;}</style><div id=\"sk-container-id-8\" class=\"sk-top-container\"><div class=\"sk-text-repr-fallback\"><pre>ExtraTreesClassifier()</pre><b>In a Jupyter environment, please rerun this cell to show the HTML representation or trust the notebook. <br />On GitHub, the HTML representation is unable to render, please try loading this page with nbviewer.org.</b></div><div class=\"sk-container\" hidden><div class=\"sk-item\"><div class=\"sk-estimator sk-toggleable\"><input class=\"sk-toggleable__control sk-hidden--visually\" id=\"sk-estimator-id-8\" type=\"checkbox\" checked><label for=\"sk-estimator-id-8\" class=\"sk-toggleable__label sk-toggleable__label-arrow\">ExtraTreesClassifier</label><div class=\"sk-toggleable__content\"><pre>ExtraTreesClassifier()</pre></div></div></div></div></div>"
            ]
          },
          "metadata": {},
          "execution_count": 39
        }
      ]
    },
    {
      "cell_type": "code",
      "source": [
        "y_predict = classifier.predict(X_test)\n",
        "y_predict\n"
      ],
      "metadata": {
        "colab": {
          "base_uri": "https://localhost:8080/"
        },
        "id": "YtPUHtpe7sjA",
        "outputId": "45c6941b-3a56-41d1-e887-27ce439371d8"
      },
      "execution_count": 40,
      "outputs": [
        {
          "output_type": "execute_result",
          "data": {
            "text/plain": [
              "array([1, 0, 0, 1, 1, 0, 0, 1, 0, 0, 1, 1, 1, 0, 1, 0, 1, 1, 1, 0, 0, 0,\n",
              "       1, 1, 1, 1, 0, 0, 1, 0, 1, 1, 0, 1, 0, 1, 1, 0, 1, 0, 1, 1, 1, 0,\n",
              "       1, 1, 0, 0, 1, 0, 1, 1, 0, 1, 0, 1, 0, 0, 0, 0, 0, 0, 0, 1, 1, 0,\n",
              "       0, 1, 0, 0, 1, 1, 1, 1, 1, 0, 0, 0, 1, 0, 0, 0, 0, 1, 0, 1, 0, 0,\n",
              "       0, 1, 1, 0, 0, 0, 1, 0, 0, 1, 1, 0, 0, 0, 0, 0, 1, 1, 1, 0, 0, 0,\n",
              "       0, 0, 1, 1, 0, 0, 0, 0, 0, 1, 1, 1, 1, 0, 0, 0, 0, 1, 1, 0, 1, 0,\n",
              "       0, 1, 1, 0, 0, 1, 0, 0, 0, 1, 1, 0, 1, 0, 0, 0, 0, 0, 0, 1, 1, 0,\n",
              "       1, 1, 0, 0, 0, 1, 1, 0, 1, 1, 1, 1, 1, 0, 0, 1, 1, 1, 1, 1, 1, 0,\n",
              "       0, 0, 0, 1, 0, 0, 1, 1, 1, 0, 0, 1, 0, 1, 0, 0, 0, 0, 0, 1, 1, 1,\n",
              "       0, 1])"
            ]
          },
          "metadata": {},
          "execution_count": 40
        }
      ]
    },
    {
      "cell_type": "code",
      "source": [
        "from sklearn.metrics import accuracy_score\n",
        "from sklearn.metrics import precision_score\n",
        "from sklearn.metrics import recall_score\n",
        "\n",
        "score1 = accuracy_score(y_test,y_predict)\n",
        "score2 = precision_score(y_test,y_predict)\n",
        "score3 = recall_score(y_test,y_predict)\n",
        "\n",
        "print(f\"The accuracy score for the model is {score1*100}%\")\n",
        "print(f\"The precision score for the model is {score2*100}%\")\n",
        "print(f\"The recall score for the model is {score3*100}%\")"
      ],
      "metadata": {
        "colab": {
          "base_uri": "https://localhost:8080/"
        },
        "id": "_0XuCJT57vuw",
        "outputId": "806b9945-5673-48de-e352-1e5aaf6a415c"
      },
      "execution_count": 41,
      "outputs": [
        {
          "output_type": "stream",
          "name": "stdout",
          "text": [
            "The accuracy score for the model is 78.5%\n",
            "The precision score for the model is 80.64516129032258%\n",
            "The recall score for the model is 75.0%\n"
          ]
        }
      ]
    },
    {
      "cell_type": "code",
      "source": [
        "#HYPERPARAMETER TUNING\n",
        "best_score = 0.0\n",
        "dep = 0\n",
        "for i in range (1,50):\n",
        "  classifier = ExtraTreesClassifier(criterion=\"entropy\", max_depth=i)\n",
        "  classifier.fit(X_train,y_train)\n",
        "  y_predict = classifier.predict(X_test)\n",
        "  score = accuracy_score(y_test,y_predict)\n",
        "  if score > best_score:\n",
        "    best_score = score\n",
        "    dep = i\n",
        "\n",
        "print(\"Best accuracy Score is \"+str(best_score*100)+\" for max_depth \"+str(dep))\n"
      ],
      "metadata": {
        "colab": {
          "base_uri": "https://localhost:8080/"
        },
        "id": "QMHumSdi73DP",
        "outputId": "ad53af04-cd0d-46ee-cf54-5356f63a72d4"
      },
      "execution_count": 42,
      "outputs": [
        {
          "output_type": "stream",
          "name": "stdout",
          "text": [
            "Best accuracy Score is 81.0 for max_depth 44\n"
          ]
        }
      ]
    },
    {
      "cell_type": "code",
      "source": [
        "from sklearn.ensemble import ExtraTreesClassifier\n",
        "classifier = ExtraTreesClassifier(criterion=\"entropy\", max_depth=dep)\n",
        "classifier.fit(X_train,y_train)\n"
      ],
      "metadata": {
        "id": "Zy3MfDxU8Fkh",
        "colab": {
          "base_uri": "https://localhost:8080/",
          "height": 74
        },
        "outputId": "e7ea5d1f-e90e-40a3-80d2-dcf85fcf88e0"
      },
      "execution_count": 43,
      "outputs": [
        {
          "output_type": "execute_result",
          "data": {
            "text/plain": [
              "ExtraTreesClassifier(criterion='entropy', max_depth=44)"
            ],
            "text/html": [
              "<style>#sk-container-id-9 {color: black;background-color: white;}#sk-container-id-9 pre{padding: 0;}#sk-container-id-9 div.sk-toggleable {background-color: white;}#sk-container-id-9 label.sk-toggleable__label {cursor: pointer;display: block;width: 100%;margin-bottom: 0;padding: 0.3em;box-sizing: border-box;text-align: center;}#sk-container-id-9 label.sk-toggleable__label-arrow:before {content: \"▸\";float: left;margin-right: 0.25em;color: #696969;}#sk-container-id-9 label.sk-toggleable__label-arrow:hover:before {color: black;}#sk-container-id-9 div.sk-estimator:hover label.sk-toggleable__label-arrow:before {color: black;}#sk-container-id-9 div.sk-toggleable__content {max-height: 0;max-width: 0;overflow: hidden;text-align: left;background-color: #f0f8ff;}#sk-container-id-9 div.sk-toggleable__content pre {margin: 0.2em;color: black;border-radius: 0.25em;background-color: #f0f8ff;}#sk-container-id-9 input.sk-toggleable__control:checked~div.sk-toggleable__content {max-height: 200px;max-width: 100%;overflow: auto;}#sk-container-id-9 input.sk-toggleable__control:checked~label.sk-toggleable__label-arrow:before {content: \"▾\";}#sk-container-id-9 div.sk-estimator input.sk-toggleable__control:checked~label.sk-toggleable__label {background-color: #d4ebff;}#sk-container-id-9 div.sk-label input.sk-toggleable__control:checked~label.sk-toggleable__label {background-color: #d4ebff;}#sk-container-id-9 input.sk-hidden--visually {border: 0;clip: rect(1px 1px 1px 1px);clip: rect(1px, 1px, 1px, 1px);height: 1px;margin: -1px;overflow: hidden;padding: 0;position: absolute;width: 1px;}#sk-container-id-9 div.sk-estimator {font-family: monospace;background-color: #f0f8ff;border: 1px dotted black;border-radius: 0.25em;box-sizing: border-box;margin-bottom: 0.5em;}#sk-container-id-9 div.sk-estimator:hover {background-color: #d4ebff;}#sk-container-id-9 div.sk-parallel-item::after {content: \"\";width: 100%;border-bottom: 1px solid gray;flex-grow: 1;}#sk-container-id-9 div.sk-label:hover label.sk-toggleable__label {background-color: #d4ebff;}#sk-container-id-9 div.sk-serial::before {content: \"\";position: absolute;border-left: 1px solid gray;box-sizing: border-box;top: 0;bottom: 0;left: 50%;z-index: 0;}#sk-container-id-9 div.sk-serial {display: flex;flex-direction: column;align-items: center;background-color: white;padding-right: 0.2em;padding-left: 0.2em;position: relative;}#sk-container-id-9 div.sk-item {position: relative;z-index: 1;}#sk-container-id-9 div.sk-parallel {display: flex;align-items: stretch;justify-content: center;background-color: white;position: relative;}#sk-container-id-9 div.sk-item::before, #sk-container-id-9 div.sk-parallel-item::before {content: \"\";position: absolute;border-left: 1px solid gray;box-sizing: border-box;top: 0;bottom: 0;left: 50%;z-index: -1;}#sk-container-id-9 div.sk-parallel-item {display: flex;flex-direction: column;z-index: 1;position: relative;background-color: white;}#sk-container-id-9 div.sk-parallel-item:first-child::after {align-self: flex-end;width: 50%;}#sk-container-id-9 div.sk-parallel-item:last-child::after {align-self: flex-start;width: 50%;}#sk-container-id-9 div.sk-parallel-item:only-child::after {width: 0;}#sk-container-id-9 div.sk-dashed-wrapped {border: 1px dashed gray;margin: 0 0.4em 0.5em 0.4em;box-sizing: border-box;padding-bottom: 0.4em;background-color: white;}#sk-container-id-9 div.sk-label label {font-family: monospace;font-weight: bold;display: inline-block;line-height: 1.2em;}#sk-container-id-9 div.sk-label-container {text-align: center;}#sk-container-id-9 div.sk-container {/* jupyter's `normalize.less` sets `[hidden] { display: none; }` but bootstrap.min.css set `[hidden] { display: none !important; }` so we also need the `!important` here to be able to override the default hidden behavior on the sphinx rendered scikit-learn.org. See: https://github.com/scikit-learn/scikit-learn/issues/21755 */display: inline-block !important;position: relative;}#sk-container-id-9 div.sk-text-repr-fallback {display: none;}</style><div id=\"sk-container-id-9\" class=\"sk-top-container\"><div class=\"sk-text-repr-fallback\"><pre>ExtraTreesClassifier(criterion=&#x27;entropy&#x27;, max_depth=44)</pre><b>In a Jupyter environment, please rerun this cell to show the HTML representation or trust the notebook. <br />On GitHub, the HTML representation is unable to render, please try loading this page with nbviewer.org.</b></div><div class=\"sk-container\" hidden><div class=\"sk-item\"><div class=\"sk-estimator sk-toggleable\"><input class=\"sk-toggleable__control sk-hidden--visually\" id=\"sk-estimator-id-9\" type=\"checkbox\" checked><label for=\"sk-estimator-id-9\" class=\"sk-toggleable__label sk-toggleable__label-arrow\">ExtraTreesClassifier</label><div class=\"sk-toggleable__content\"><pre>ExtraTreesClassifier(criterion=&#x27;entropy&#x27;, max_depth=44)</pre></div></div></div></div></div>"
            ]
          },
          "metadata": {},
          "execution_count": 43
        }
      ]
    },
    {
      "cell_type": "code",
      "source": [
        "\n",
        "y_predict = classifier.predict(X_test)\n",
        "y_predict"
      ],
      "metadata": {
        "colab": {
          "base_uri": "https://localhost:8080/"
        },
        "id": "ItU6TbUN8O3b",
        "outputId": "2819da99-c6a6-422b-b08a-da3d1c4e0f69"
      },
      "execution_count": 44,
      "outputs": [
        {
          "output_type": "execute_result",
          "data": {
            "text/plain": [
              "array([1, 0, 0, 0, 1, 0, 0, 1, 0, 0, 1, 1, 1, 0, 1, 0, 0, 1, 0, 0, 0, 0,\n",
              "       1, 1, 1, 0, 0, 0, 1, 0, 1, 1, 0, 1, 0, 1, 1, 0, 1, 0, 1, 1, 0, 0,\n",
              "       1, 1, 0, 0, 1, 0, 1, 0, 0, 1, 0, 1, 0, 0, 0, 0, 0, 0, 0, 0, 1, 1,\n",
              "       0, 1, 0, 0, 0, 1, 1, 1, 1, 0, 0, 0, 1, 1, 0, 0, 0, 1, 0, 1, 0, 0,\n",
              "       0, 1, 1, 0, 0, 0, 1, 0, 1, 1, 1, 0, 0, 0, 0, 0, 1, 1, 0, 0, 0, 0,\n",
              "       1, 1, 1, 1, 0, 0, 0, 0, 0, 1, 0, 1, 0, 0, 0, 0, 0, 1, 1, 1, 1, 0,\n",
              "       0, 0, 1, 0, 1, 1, 0, 0, 0, 1, 0, 0, 1, 0, 0, 0, 0, 0, 0, 1, 1, 0,\n",
              "       1, 1, 0, 0, 0, 1, 1, 0, 1, 1, 1, 1, 1, 0, 0, 1, 1, 1, 1, 0, 1, 0,\n",
              "       0, 0, 0, 1, 0, 0, 1, 1, 1, 0, 0, 1, 0, 1, 0, 1, 0, 0, 0, 1, 0, 1,\n",
              "       0, 1])"
            ]
          },
          "metadata": {},
          "execution_count": 44
        }
      ]
    },
    {
      "cell_type": "code",
      "source": [
        "from sklearn.metrics import accuracy_score\n",
        "from sklearn.metrics import precision_score\n",
        "from sklearn.metrics import recall_score\n",
        "\n",
        "score1 = accuracy_score(y_test,y_predict)\n",
        "score2 = precision_score(y_test,y_predict)\n",
        "score3 = recall_score(y_test,y_predict)\n",
        "\n",
        "print(f\"The accuracy score for the model is {score1*100}%\")\n",
        "print(f\"The precision score for the model is {score2*100}%\")\n",
        "print(f\"The recall score for the model is {score3*100}%\")\n"
      ],
      "metadata": {
        "colab": {
          "base_uri": "https://localhost:8080/"
        },
        "id": "kZHREAeK8s5J",
        "outputId": "3d5944d9-e591-4d12-ae5d-0986e57c4371"
      },
      "execution_count": 45,
      "outputs": [
        {
          "output_type": "stream",
          "name": "stdout",
          "text": [
            "The accuracy score for the model is 79.0%\n",
            "The precision score for the model is 83.72093023255815%\n",
            "The recall score for the model is 72.0%\n"
          ]
        }
      ]
    },
    {
      "cell_type": "code",
      "source": [
        "#testing the model against random input\n",
        "def predict_sentiment(sample_review):\n",
        "  sample_review = re.sub(pattern='[^a-zA-Z]',repl=' ',string = sample_review)\n",
        "  sample_review = sample_review.lower()\n",
        "  sample_review_words = sample_review.split()\n",
        "  sample_review_words = [ word for word in sample_review_words if not word in set(stopwords.words('english'))]\n",
        "  final_review = [ps().stem(word) for word in sample_review_words]\n",
        "  final_review = ' '.join(final_review)\n",
        "\n",
        "  temp = cv.transform([final_review]).toarray()\n",
        "  return classifier.predict(temp)\n"
      ],
      "metadata": {
        "id": "g_cks6AV8wa-"
      },
      "execution_count": 46,
      "outputs": []
    },
    {
      "cell_type": "code",
      "source": [
        "sample_review = ['The food is really wonderful',\n",
        "                 'The food is bad and service is also not good',\n",
        "                 'Not tasty and the texture was just nasty',\n",
        "                 'Highly recommended',\n",
        "                 'The worst was the salmon sashimi']\n",
        "i=1\n",
        "for sample in sample_review:\n",
        "  if predict_sentiment(sample):\n",
        "    print(f'The review {i} is Positive')\n",
        "  else:\n",
        "    print(f'The review {i} is Negative')\n",
        "  i+=1\n"
      ],
      "metadata": {
        "colab": {
          "base_uri": "https://localhost:8080/"
        },
        "id": "E_KNXcEJ8271",
        "outputId": "d896b0bd-a9cd-4ad3-ddfe-8eb3ac3c5e7d"
      },
      "execution_count": 47,
      "outputs": [
        {
          "output_type": "stream",
          "name": "stdout",
          "text": [
            "The review 1 is Positive\n",
            "The review 2 is Negative\n",
            "The review 3 is Negative\n",
            "The review 4 is Negative\n",
            "The review 5 is Negative\n"
          ]
        }
      ]
    },
    {
      "cell_type": "code",
      "source": [
        "#KNEIGHBOURS CLASSIFIER\n",
        "from sklearn.neighbors import KNeighborsClassifier\n",
        "classifier = KNeighborsClassifier()\n",
        "classifier.fit(X_train,y_train)\n"
      ],
      "metadata": {
        "colab": {
          "base_uri": "https://localhost:8080/",
          "height": 74
        },
        "id": "fcqvTXmk86qN",
        "outputId": "90150260-7b73-46a9-d2b1-ba72967ad1a0"
      },
      "execution_count": 48,
      "outputs": [
        {
          "output_type": "execute_result",
          "data": {
            "text/plain": [
              "KNeighborsClassifier()"
            ],
            "text/html": [
              "<style>#sk-container-id-10 {color: black;background-color: white;}#sk-container-id-10 pre{padding: 0;}#sk-container-id-10 div.sk-toggleable {background-color: white;}#sk-container-id-10 label.sk-toggleable__label {cursor: pointer;display: block;width: 100%;margin-bottom: 0;padding: 0.3em;box-sizing: border-box;text-align: center;}#sk-container-id-10 label.sk-toggleable__label-arrow:before {content: \"▸\";float: left;margin-right: 0.25em;color: #696969;}#sk-container-id-10 label.sk-toggleable__label-arrow:hover:before {color: black;}#sk-container-id-10 div.sk-estimator:hover label.sk-toggleable__label-arrow:before {color: black;}#sk-container-id-10 div.sk-toggleable__content {max-height: 0;max-width: 0;overflow: hidden;text-align: left;background-color: #f0f8ff;}#sk-container-id-10 div.sk-toggleable__content pre {margin: 0.2em;color: black;border-radius: 0.25em;background-color: #f0f8ff;}#sk-container-id-10 input.sk-toggleable__control:checked~div.sk-toggleable__content {max-height: 200px;max-width: 100%;overflow: auto;}#sk-container-id-10 input.sk-toggleable__control:checked~label.sk-toggleable__label-arrow:before {content: \"▾\";}#sk-container-id-10 div.sk-estimator input.sk-toggleable__control:checked~label.sk-toggleable__label {background-color: #d4ebff;}#sk-container-id-10 div.sk-label input.sk-toggleable__control:checked~label.sk-toggleable__label {background-color: #d4ebff;}#sk-container-id-10 input.sk-hidden--visually {border: 0;clip: rect(1px 1px 1px 1px);clip: rect(1px, 1px, 1px, 1px);height: 1px;margin: -1px;overflow: hidden;padding: 0;position: absolute;width: 1px;}#sk-container-id-10 div.sk-estimator {font-family: monospace;background-color: #f0f8ff;border: 1px dotted black;border-radius: 0.25em;box-sizing: border-box;margin-bottom: 0.5em;}#sk-container-id-10 div.sk-estimator:hover {background-color: #d4ebff;}#sk-container-id-10 div.sk-parallel-item::after {content: \"\";width: 100%;border-bottom: 1px solid gray;flex-grow: 1;}#sk-container-id-10 div.sk-label:hover label.sk-toggleable__label {background-color: #d4ebff;}#sk-container-id-10 div.sk-serial::before {content: \"\";position: absolute;border-left: 1px solid gray;box-sizing: border-box;top: 0;bottom: 0;left: 50%;z-index: 0;}#sk-container-id-10 div.sk-serial {display: flex;flex-direction: column;align-items: center;background-color: white;padding-right: 0.2em;padding-left: 0.2em;position: relative;}#sk-container-id-10 div.sk-item {position: relative;z-index: 1;}#sk-container-id-10 div.sk-parallel {display: flex;align-items: stretch;justify-content: center;background-color: white;position: relative;}#sk-container-id-10 div.sk-item::before, #sk-container-id-10 div.sk-parallel-item::before {content: \"\";position: absolute;border-left: 1px solid gray;box-sizing: border-box;top: 0;bottom: 0;left: 50%;z-index: -1;}#sk-container-id-10 div.sk-parallel-item {display: flex;flex-direction: column;z-index: 1;position: relative;background-color: white;}#sk-container-id-10 div.sk-parallel-item:first-child::after {align-self: flex-end;width: 50%;}#sk-container-id-10 div.sk-parallel-item:last-child::after {align-self: flex-start;width: 50%;}#sk-container-id-10 div.sk-parallel-item:only-child::after {width: 0;}#sk-container-id-10 div.sk-dashed-wrapped {border: 1px dashed gray;margin: 0 0.4em 0.5em 0.4em;box-sizing: border-box;padding-bottom: 0.4em;background-color: white;}#sk-container-id-10 div.sk-label label {font-family: monospace;font-weight: bold;display: inline-block;line-height: 1.2em;}#sk-container-id-10 div.sk-label-container {text-align: center;}#sk-container-id-10 div.sk-container {/* jupyter's `normalize.less` sets `[hidden] { display: none; }` but bootstrap.min.css set `[hidden] { display: none !important; }` so we also need the `!important` here to be able to override the default hidden behavior on the sphinx rendered scikit-learn.org. See: https://github.com/scikit-learn/scikit-learn/issues/21755 */display: inline-block !important;position: relative;}#sk-container-id-10 div.sk-text-repr-fallback {display: none;}</style><div id=\"sk-container-id-10\" class=\"sk-top-container\"><div class=\"sk-text-repr-fallback\"><pre>KNeighborsClassifier()</pre><b>In a Jupyter environment, please rerun this cell to show the HTML representation or trust the notebook. <br />On GitHub, the HTML representation is unable to render, please try loading this page with nbviewer.org.</b></div><div class=\"sk-container\" hidden><div class=\"sk-item\"><div class=\"sk-estimator sk-toggleable\"><input class=\"sk-toggleable__control sk-hidden--visually\" id=\"sk-estimator-id-10\" type=\"checkbox\" checked><label for=\"sk-estimator-id-10\" class=\"sk-toggleable__label sk-toggleable__label-arrow\">KNeighborsClassifier</label><div class=\"sk-toggleable__content\"><pre>KNeighborsClassifier()</pre></div></div></div></div></div>"
            ]
          },
          "metadata": {},
          "execution_count": 48
        }
      ]
    },
    {
      "cell_type": "code",
      "source": [
        "y_predict = classifier.predict(X_test)\n",
        "y_predict\n"
      ],
      "metadata": {
        "colab": {
          "base_uri": "https://localhost:8080/"
        },
        "id": "fy7N882m9Dg_",
        "outputId": "c0e2fa6a-c60b-4d13-c3a5-144e8ce28813"
      },
      "execution_count": 49,
      "outputs": [
        {
          "output_type": "execute_result",
          "data": {
            "text/plain": [
              "array([1, 0, 0, 0, 0, 0, 0, 0, 0, 0, 1, 1, 1, 0, 1, 0, 1, 1, 0, 0, 1, 0,\n",
              "       1, 0, 1, 1, 0, 0, 1, 0, 1, 0, 0, 1, 0, 0, 1, 0, 1, 1, 1, 1, 1, 0,\n",
              "       0, 1, 0, 0, 1, 0, 1, 1, 0, 0, 0, 0, 0, 0, 0, 0, 0, 0, 1, 1, 1, 0,\n",
              "       1, 1, 1, 0, 1, 0, 1, 0, 0, 0, 0, 1, 1, 0, 0, 0, 0, 1, 0, 0, 0, 0,\n",
              "       0, 0, 0, 0, 0, 0, 0, 0, 0, 0, 1, 0, 0, 0, 0, 0, 0, 1, 1, 0, 0, 0,\n",
              "       0, 0, 0, 1, 0, 0, 0, 1, 1, 1, 0, 1, 0, 0, 0, 0, 1, 0, 1, 1, 1, 0,\n",
              "       0, 0, 1, 0, 0, 0, 0, 0, 0, 1, 1, 0, 0, 0, 1, 0, 0, 0, 0, 1, 1, 0,\n",
              "       0, 0, 0, 0, 0, 0, 0, 0, 1, 1, 0, 1, 1, 0, 0, 1, 1, 1, 1, 1, 1, 1,\n",
              "       0, 0, 0, 0, 1, 0, 0, 1, 1, 0, 0, 0, 0, 1, 0, 0, 0, 0, 0, 0, 0, 1,\n",
              "       0, 0])"
            ]
          },
          "metadata": {},
          "execution_count": 49
        }
      ]
    },
    {
      "cell_type": "code",
      "source": [
        "from sklearn.metrics import accuracy_score\n",
        "from sklearn.metrics import precision_score\n",
        "from sklearn.metrics import recall_score\n",
        "\n",
        "score1 = accuracy_score(y_test,y_predict)\n",
        "score2 = precision_score(y_test,y_predict)\n",
        "score3 = recall_score(y_test,y_predict)\n",
        "\n",
        "print(f\"The accuracy score for the model is {score1*100}%\")\n",
        "print(f\"The precision score for the model is {score2*100}%\")\n",
        "print(f\"The recall score for the model is {score3*100}%\")\n"
      ],
      "metadata": {
        "colab": {
          "base_uri": "https://localhost:8080/"
        },
        "id": "vmudfcXZ9GvC",
        "outputId": "7fabb21b-2a88-425d-d798-1c922e81ad73"
      },
      "execution_count": 50,
      "outputs": [
        {
          "output_type": "stream",
          "name": "stdout",
          "text": [
            "The accuracy score for the model is 63.5%\n",
            "The precision score for the model is 69.56521739130434%\n",
            "The recall score for the model is 48.0%\n"
          ]
        }
      ]
    },
    {
      "cell_type": "code",
      "source": [
        "#HYPERPARAMETER TUNING\n",
        "best_score = 0.0\n",
        "n = 0\n",
        "for i in range (1,100):\n",
        "  classifier = KNeighborsClassifier(n_neighbors=i)\n",
        "  classifier.fit(X_train,y_train)\n",
        "  y_predict = classifier.predict(X_test)\n",
        "  score = accuracy_score(y_test,y_predict)\n",
        "  if score > best_score:\n",
        "    best_score = score\n",
        "    n = i\n",
        "\n",
        "print(\"Best accuracy Score is \"+str(best_score*100)+\" for neighbours \"+str(n))\n"
      ],
      "metadata": {
        "colab": {
          "base_uri": "https://localhost:8080/"
        },
        "id": "yrWO2zf69KVZ",
        "outputId": "aa4757b3-d1d3-4ad8-ff52-3a2156e37faa"
      },
      "execution_count": 51,
      "outputs": [
        {
          "output_type": "stream",
          "name": "stdout",
          "text": [
            "Best accuracy Score is 67.5 for neighbours 21\n"
          ]
        }
      ]
    },
    {
      "cell_type": "code",
      "source": [
        "#USING THE BEST MODEL AS PER HYPERPARAMETER TUNING\n",
        "from sklearn.neighbors import KNeighborsClassifier\n",
        "classifier = KNeighborsClassifier(n_neighbors=n)\n",
        "classifier.fit(X_train,y_train)\n"
      ],
      "metadata": {
        "colab": {
          "base_uri": "https://localhost:8080/",
          "height": 74
        },
        "id": "t9_2rYxe9Rzv",
        "outputId": "95723dca-034e-434e-8db6-405ff924bdaf"
      },
      "execution_count": 52,
      "outputs": [
        {
          "output_type": "execute_result",
          "data": {
            "text/plain": [
              "KNeighborsClassifier(n_neighbors=21)"
            ],
            "text/html": [
              "<style>#sk-container-id-11 {color: black;background-color: white;}#sk-container-id-11 pre{padding: 0;}#sk-container-id-11 div.sk-toggleable {background-color: white;}#sk-container-id-11 label.sk-toggleable__label {cursor: pointer;display: block;width: 100%;margin-bottom: 0;padding: 0.3em;box-sizing: border-box;text-align: center;}#sk-container-id-11 label.sk-toggleable__label-arrow:before {content: \"▸\";float: left;margin-right: 0.25em;color: #696969;}#sk-container-id-11 label.sk-toggleable__label-arrow:hover:before {color: black;}#sk-container-id-11 div.sk-estimator:hover label.sk-toggleable__label-arrow:before {color: black;}#sk-container-id-11 div.sk-toggleable__content {max-height: 0;max-width: 0;overflow: hidden;text-align: left;background-color: #f0f8ff;}#sk-container-id-11 div.sk-toggleable__content pre {margin: 0.2em;color: black;border-radius: 0.25em;background-color: #f0f8ff;}#sk-container-id-11 input.sk-toggleable__control:checked~div.sk-toggleable__content {max-height: 200px;max-width: 100%;overflow: auto;}#sk-container-id-11 input.sk-toggleable__control:checked~label.sk-toggleable__label-arrow:before {content: \"▾\";}#sk-container-id-11 div.sk-estimator input.sk-toggleable__control:checked~label.sk-toggleable__label {background-color: #d4ebff;}#sk-container-id-11 div.sk-label input.sk-toggleable__control:checked~label.sk-toggleable__label {background-color: #d4ebff;}#sk-container-id-11 input.sk-hidden--visually {border: 0;clip: rect(1px 1px 1px 1px);clip: rect(1px, 1px, 1px, 1px);height: 1px;margin: -1px;overflow: hidden;padding: 0;position: absolute;width: 1px;}#sk-container-id-11 div.sk-estimator {font-family: monospace;background-color: #f0f8ff;border: 1px dotted black;border-radius: 0.25em;box-sizing: border-box;margin-bottom: 0.5em;}#sk-container-id-11 div.sk-estimator:hover {background-color: #d4ebff;}#sk-container-id-11 div.sk-parallel-item::after {content: \"\";width: 100%;border-bottom: 1px solid gray;flex-grow: 1;}#sk-container-id-11 div.sk-label:hover label.sk-toggleable__label {background-color: #d4ebff;}#sk-container-id-11 div.sk-serial::before {content: \"\";position: absolute;border-left: 1px solid gray;box-sizing: border-box;top: 0;bottom: 0;left: 50%;z-index: 0;}#sk-container-id-11 div.sk-serial {display: flex;flex-direction: column;align-items: center;background-color: white;padding-right: 0.2em;padding-left: 0.2em;position: relative;}#sk-container-id-11 div.sk-item {position: relative;z-index: 1;}#sk-container-id-11 div.sk-parallel {display: flex;align-items: stretch;justify-content: center;background-color: white;position: relative;}#sk-container-id-11 div.sk-item::before, #sk-container-id-11 div.sk-parallel-item::before {content: \"\";position: absolute;border-left: 1px solid gray;box-sizing: border-box;top: 0;bottom: 0;left: 50%;z-index: -1;}#sk-container-id-11 div.sk-parallel-item {display: flex;flex-direction: column;z-index: 1;position: relative;background-color: white;}#sk-container-id-11 div.sk-parallel-item:first-child::after {align-self: flex-end;width: 50%;}#sk-container-id-11 div.sk-parallel-item:last-child::after {align-self: flex-start;width: 50%;}#sk-container-id-11 div.sk-parallel-item:only-child::after {width: 0;}#sk-container-id-11 div.sk-dashed-wrapped {border: 1px dashed gray;margin: 0 0.4em 0.5em 0.4em;box-sizing: border-box;padding-bottom: 0.4em;background-color: white;}#sk-container-id-11 div.sk-label label {font-family: monospace;font-weight: bold;display: inline-block;line-height: 1.2em;}#sk-container-id-11 div.sk-label-container {text-align: center;}#sk-container-id-11 div.sk-container {/* jupyter's `normalize.less` sets `[hidden] { display: none; }` but bootstrap.min.css set `[hidden] { display: none !important; }` so we also need the `!important` here to be able to override the default hidden behavior on the sphinx rendered scikit-learn.org. See: https://github.com/scikit-learn/scikit-learn/issues/21755 */display: inline-block !important;position: relative;}#sk-container-id-11 div.sk-text-repr-fallback {display: none;}</style><div id=\"sk-container-id-11\" class=\"sk-top-container\"><div class=\"sk-text-repr-fallback\"><pre>KNeighborsClassifier(n_neighbors=21)</pre><b>In a Jupyter environment, please rerun this cell to show the HTML representation or trust the notebook. <br />On GitHub, the HTML representation is unable to render, please try loading this page with nbviewer.org.</b></div><div class=\"sk-container\" hidden><div class=\"sk-item\"><div class=\"sk-estimator sk-toggleable\"><input class=\"sk-toggleable__control sk-hidden--visually\" id=\"sk-estimator-id-11\" type=\"checkbox\" checked><label for=\"sk-estimator-id-11\" class=\"sk-toggleable__label sk-toggleable__label-arrow\">KNeighborsClassifier</label><div class=\"sk-toggleable__content\"><pre>KNeighborsClassifier(n_neighbors=21)</pre></div></div></div></div></div>"
            ]
          },
          "metadata": {},
          "execution_count": 52
        }
      ]
    },
    {
      "cell_type": "code",
      "source": [
        "y_predict = classifier.predict(X_test)\n",
        "y_predict\n"
      ],
      "metadata": {
        "colab": {
          "base_uri": "https://localhost:8080/"
        },
        "id": "rnmeiiKO9aRN",
        "outputId": "923fd1e9-e87c-4274-958e-76967c6a5e4a"
      },
      "execution_count": 53,
      "outputs": [
        {
          "output_type": "execute_result",
          "data": {
            "text/plain": [
              "array([1, 0, 0, 0, 0, 0, 0, 1, 0, 1, 1, 0, 0, 0, 1, 0, 0, 1, 1, 0, 0, 0,\n",
              "       1, 0, 1, 1, 0, 0, 0, 0, 1, 0, 0, 1, 0, 0, 1, 0, 1, 0, 1, 1, 1, 0,\n",
              "       0, 0, 0, 0, 0, 0, 1, 1, 0, 0, 0, 0, 0, 0, 0, 0, 0, 0, 0, 0, 1, 0,\n",
              "       0, 1, 1, 0, 1, 0, 1, 0, 0, 0, 0, 0, 1, 1, 0, 0, 0, 0, 0, 1, 0, 0,\n",
              "       0, 1, 0, 0, 0, 0, 0, 0, 0, 0, 1, 0, 0, 0, 0, 0, 0, 0, 0, 0, 0, 0,\n",
              "       0, 1, 0, 1, 0, 0, 0, 0, 0, 1, 0, 1, 1, 0, 0, 0, 0, 1, 0, 1, 1, 0,\n",
              "       0, 0, 0, 0, 0, 0, 0, 0, 0, 1, 1, 0, 0, 0, 0, 0, 0, 0, 0, 1, 1, 0,\n",
              "       0, 0, 0, 0, 0, 0, 0, 0, 1, 0, 1, 0, 0, 0, 0, 1, 1, 1, 1, 1, 1, 0,\n",
              "       0, 0, 0, 0, 0, 0, 0, 1, 1, 0, 0, 0, 0, 1, 0, 0, 0, 0, 0, 1, 0, 0,\n",
              "       0, 0])"
            ]
          },
          "metadata": {},
          "execution_count": 53
        }
      ]
    },
    {
      "cell_type": "code",
      "source": [
        "from sklearn.metrics import accuracy_score\n",
        "from sklearn.metrics import precision_score\n",
        "from sklearn.metrics import recall_score\n",
        "\n",
        "score1 = accuracy_score(y_test,y_predict)\n",
        "score2 = precision_score(y_test,y_predict)\n",
        "score3 = recall_score(y_test,y_predict)\n",
        "\n",
        "print(f\"The accuracy score for the model is {score1*100}%\")\n",
        "print(f\"The precision score for the model is {score2*100}%\")\n",
        "print(f\"The recall score for the model is {score3*100}%\")\n"
      ],
      "metadata": {
        "colab": {
          "base_uri": "https://localhost:8080/"
        },
        "id": "5__II2vX9djJ",
        "outputId": "0b08d307-3a85-4798-b97b-5cd698ad7da3"
      },
      "execution_count": 54,
      "outputs": [
        {
          "output_type": "stream",
          "name": "stdout",
          "text": [
            "The accuracy score for the model is 67.5%\n",
            "The precision score for the model is 83.01886792452831%\n",
            "The recall score for the model is 44.0%\n"
          ]
        }
      ]
    },
    {
      "cell_type": "code",
      "source": [
        "#TESTING THE MODEL AGAINST RANDOM INPUTS\n",
        "def predict_sentiment(sample_review):\n",
        "  sample_review = re.sub(pattern='[^a-zA-Z]',repl=' ',string = sample_review)\n",
        "  sample_review = sample_review.lower()\n",
        "  sample_review_words = sample_review.split()\n",
        "  sample_review_words = [ word for word in sample_review_words if not word in set(stopwords.words('english'))]\n",
        "  final_review = [ps().stem(word) for word in sample_review_words]\n",
        "  final_review = ' '.join(final_review)\n",
        "\n",
        "  temp = cv.transform([final_review]).toarray()\n",
        "  return classifier.predict(temp)\n"
      ],
      "metadata": {
        "id": "OEGwOSgL9hg5"
      },
      "execution_count": 55,
      "outputs": []
    },
    {
      "cell_type": "code",
      "source": [
        "sample_review = ['The food is really wonderful',\n",
        "                 'The food is bad and service is also not good',\n",
        "                 'Not tasty and the texture was just nasty',\n",
        "                 'Highly recommended',\n",
        "                 'The worst was the salmon sashimi']\n",
        "i=1\n",
        "for sample in sample_review:\n",
        "  if predict_sentiment(sample):\n",
        "    print(f'The review {i} is Positive')\n",
        "  else:\n",
        "    print(f'The review {i} is Negative')\n",
        "  i+=1\n"
      ],
      "metadata": {
        "colab": {
          "base_uri": "https://localhost:8080/"
        },
        "id": "H9jVTRQM9pH6",
        "outputId": "f7c55c80-d1f5-47df-f234-a2604fcc35a9"
      },
      "execution_count": 56,
      "outputs": [
        {
          "output_type": "stream",
          "name": "stdout",
          "text": [
            "The review 1 is Negative\n",
            "The review 2 is Positive\n",
            "The review 3 is Negative\n",
            "The review 4 is Positive\n",
            "The review 5 is Negative\n"
          ]
        }
      ]
    },
    {
      "cell_type": "code",
      "source": [
        "#support vector classification\n",
        "from sklearn.svm import SVC\n",
        "classifier = SVC(kernel='sigmoid')\n",
        "classifier.fit(X_train,y_train)\n"
      ],
      "metadata": {
        "colab": {
          "base_uri": "https://localhost:8080/",
          "height": 74
        },
        "id": "hzSnMwFZ9tvu",
        "outputId": "2dddef7f-cf1d-4d39-e4bb-f45d850b98ae"
      },
      "execution_count": 57,
      "outputs": [
        {
          "output_type": "execute_result",
          "data": {
            "text/plain": [
              "SVC(kernel='sigmoid')"
            ],
            "text/html": [
              "<style>#sk-container-id-12 {color: black;background-color: white;}#sk-container-id-12 pre{padding: 0;}#sk-container-id-12 div.sk-toggleable {background-color: white;}#sk-container-id-12 label.sk-toggleable__label {cursor: pointer;display: block;width: 100%;margin-bottom: 0;padding: 0.3em;box-sizing: border-box;text-align: center;}#sk-container-id-12 label.sk-toggleable__label-arrow:before {content: \"▸\";float: left;margin-right: 0.25em;color: #696969;}#sk-container-id-12 label.sk-toggleable__label-arrow:hover:before {color: black;}#sk-container-id-12 div.sk-estimator:hover label.sk-toggleable__label-arrow:before {color: black;}#sk-container-id-12 div.sk-toggleable__content {max-height: 0;max-width: 0;overflow: hidden;text-align: left;background-color: #f0f8ff;}#sk-container-id-12 div.sk-toggleable__content pre {margin: 0.2em;color: black;border-radius: 0.25em;background-color: #f0f8ff;}#sk-container-id-12 input.sk-toggleable__control:checked~div.sk-toggleable__content {max-height: 200px;max-width: 100%;overflow: auto;}#sk-container-id-12 input.sk-toggleable__control:checked~label.sk-toggleable__label-arrow:before {content: \"▾\";}#sk-container-id-12 div.sk-estimator input.sk-toggleable__control:checked~label.sk-toggleable__label {background-color: #d4ebff;}#sk-container-id-12 div.sk-label input.sk-toggleable__control:checked~label.sk-toggleable__label {background-color: #d4ebff;}#sk-container-id-12 input.sk-hidden--visually {border: 0;clip: rect(1px 1px 1px 1px);clip: rect(1px, 1px, 1px, 1px);height: 1px;margin: -1px;overflow: hidden;padding: 0;position: absolute;width: 1px;}#sk-container-id-12 div.sk-estimator {font-family: monospace;background-color: #f0f8ff;border: 1px dotted black;border-radius: 0.25em;box-sizing: border-box;margin-bottom: 0.5em;}#sk-container-id-12 div.sk-estimator:hover {background-color: #d4ebff;}#sk-container-id-12 div.sk-parallel-item::after {content: \"\";width: 100%;border-bottom: 1px solid gray;flex-grow: 1;}#sk-container-id-12 div.sk-label:hover label.sk-toggleable__label {background-color: #d4ebff;}#sk-container-id-12 div.sk-serial::before {content: \"\";position: absolute;border-left: 1px solid gray;box-sizing: border-box;top: 0;bottom: 0;left: 50%;z-index: 0;}#sk-container-id-12 div.sk-serial {display: flex;flex-direction: column;align-items: center;background-color: white;padding-right: 0.2em;padding-left: 0.2em;position: relative;}#sk-container-id-12 div.sk-item {position: relative;z-index: 1;}#sk-container-id-12 div.sk-parallel {display: flex;align-items: stretch;justify-content: center;background-color: white;position: relative;}#sk-container-id-12 div.sk-item::before, #sk-container-id-12 div.sk-parallel-item::before {content: \"\";position: absolute;border-left: 1px solid gray;box-sizing: border-box;top: 0;bottom: 0;left: 50%;z-index: -1;}#sk-container-id-12 div.sk-parallel-item {display: flex;flex-direction: column;z-index: 1;position: relative;background-color: white;}#sk-container-id-12 div.sk-parallel-item:first-child::after {align-self: flex-end;width: 50%;}#sk-container-id-12 div.sk-parallel-item:last-child::after {align-self: flex-start;width: 50%;}#sk-container-id-12 div.sk-parallel-item:only-child::after {width: 0;}#sk-container-id-12 div.sk-dashed-wrapped {border: 1px dashed gray;margin: 0 0.4em 0.5em 0.4em;box-sizing: border-box;padding-bottom: 0.4em;background-color: white;}#sk-container-id-12 div.sk-label label {font-family: monospace;font-weight: bold;display: inline-block;line-height: 1.2em;}#sk-container-id-12 div.sk-label-container {text-align: center;}#sk-container-id-12 div.sk-container {/* jupyter's `normalize.less` sets `[hidden] { display: none; }` but bootstrap.min.css set `[hidden] { display: none !important; }` so we also need the `!important` here to be able to override the default hidden behavior on the sphinx rendered scikit-learn.org. See: https://github.com/scikit-learn/scikit-learn/issues/21755 */display: inline-block !important;position: relative;}#sk-container-id-12 div.sk-text-repr-fallback {display: none;}</style><div id=\"sk-container-id-12\" class=\"sk-top-container\"><div class=\"sk-text-repr-fallback\"><pre>SVC(kernel=&#x27;sigmoid&#x27;)</pre><b>In a Jupyter environment, please rerun this cell to show the HTML representation or trust the notebook. <br />On GitHub, the HTML representation is unable to render, please try loading this page with nbviewer.org.</b></div><div class=\"sk-container\" hidden><div class=\"sk-item\"><div class=\"sk-estimator sk-toggleable\"><input class=\"sk-toggleable__control sk-hidden--visually\" id=\"sk-estimator-id-12\" type=\"checkbox\" checked><label for=\"sk-estimator-id-12\" class=\"sk-toggleable__label sk-toggleable__label-arrow\">SVC</label><div class=\"sk-toggleable__content\"><pre>SVC(kernel=&#x27;sigmoid&#x27;)</pre></div></div></div></div></div>"
            ]
          },
          "metadata": {},
          "execution_count": 57
        }
      ]
    },
    {
      "cell_type": "code",
      "source": [
        "\n",
        "y_predict = classifier.predict(X_test)\n",
        "y_predict\n"
      ],
      "metadata": {
        "colab": {
          "base_uri": "https://localhost:8080/"
        },
        "id": "-W8y8a9K904Y",
        "outputId": "e33c68c0-7638-4209-dff3-da51074fcd46"
      },
      "execution_count": 58,
      "outputs": [
        {
          "output_type": "execute_result",
          "data": {
            "text/plain": [
              "array([1, 0, 0, 0, 1, 0, 0, 1, 0, 0, 1, 1, 1, 0, 1, 0, 1, 1, 0, 1, 0, 0,\n",
              "       1, 1, 1, 1, 0, 0, 1, 0, 1, 1, 0, 1, 0, 0, 1, 0, 1, 0, 1, 1, 1, 0,\n",
              "       0, 1, 0, 0, 1, 0, 1, 0, 0, 1, 0, 1, 0, 0, 0, 1, 0, 0, 0, 0, 1, 0,\n",
              "       0, 1, 0, 0, 1, 1, 1, 1, 1, 0, 0, 0, 0, 1, 0, 0, 0, 1, 0, 1, 0, 0,\n",
              "       0, 1, 1, 0, 0, 0, 1, 0, 1, 1, 1, 0, 0, 0, 0, 0, 1, 0, 1, 0, 0, 0,\n",
              "       1, 1, 1, 1, 0, 0, 1, 0, 0, 1, 1, 1, 1, 0, 0, 0, 0, 1, 1, 1, 1, 0,\n",
              "       0, 1, 1, 0, 1, 0, 0, 0, 0, 1, 1, 0, 1, 0, 0, 0, 0, 0, 0, 1, 0, 0,\n",
              "       1, 1, 0, 0, 0, 1, 1, 0, 1, 1, 1, 1, 1, 0, 0, 1, 1, 1, 1, 0, 1, 0,\n",
              "       0, 0, 0, 1, 1, 1, 1, 1, 1, 0, 0, 1, 0, 1, 0, 1, 0, 0, 0, 1, 0, 1,\n",
              "       0, 1])"
            ]
          },
          "metadata": {},
          "execution_count": 58
        }
      ]
    },
    {
      "cell_type": "code",
      "source": [
        "from sklearn.metrics import accuracy_score\n",
        "from sklearn.metrics import precision_score\n",
        "from sklearn.metrics import recall_score\n",
        "\n",
        "score1 = accuracy_score(y_test,y_predict)\n",
        "score2 = precision_score(y_test,y_predict)\n",
        "score3 = recall_score(y_test,y_predict)\n",
        "\n",
        "print(f\"The accuracy score for the model is {score1*100}%\")\n",
        "print(f\"The precision score for the model is {score2*100}%\")\n",
        "print(f\"The recall score for the model is {score3*100}%\")"
      ],
      "metadata": {
        "colab": {
          "base_uri": "https://localhost:8080/"
        },
        "id": "sHACraHK95XQ",
        "outputId": "37278a7d-f2d4-4eea-d1b1-509e4fc2028a"
      },
      "execution_count": 59,
      "outputs": [
        {
          "output_type": "stream",
          "name": "stdout",
          "text": [
            "The accuracy score for the model is 77.5%\n",
            "The precision score for the model is 79.56989247311827%\n",
            "The recall score for the model is 74.0%\n"
          ]
        }
      ]
    },
    {
      "cell_type": "markdown",
      "source": [],
      "metadata": {
        "id": "Hbzw837G6hbZ"
      }
    },
    {
      "cell_type": "code",
      "source": [
        "best_score = 0.0\n",
        "g = 0\n",
        "for i in range (0,100):\n",
        "  classifier = SVC(kernel='linear',gamma=i)\n",
        "  classifier.fit(X_train,y_train)\n",
        "  y_predict = classifier.predict(X_test)\n",
        "  score = accuracy_score(y_test,y_predict)\n",
        "  if score > best_score:\n",
        "    best_score = score\n",
        "    g = i\n",
        "\n",
        "print(\"Best accuracy Score is \"+str(best_score*100)+\" for neighbours \"+str(g))\n"
      ],
      "metadata": {
        "colab": {
          "base_uri": "https://localhost:8080/"
        },
        "id": "WPmdhlWB-aaD",
        "outputId": "82f80960-6491-47ca-a5a1-4173ea80dfab"
      },
      "execution_count": 61,
      "outputs": [
        {
          "output_type": "stream",
          "name": "stdout",
          "text": [
            "Best accuracy Score is 76.5 for neighbours 0\n"
          ]
        }
      ]
    },
    {
      "cell_type": "code",
      "source": [
        "#TESTING THE MODEL AGAINST RANDOM INPUTS\n",
        "def predict_sentiment(sample_review):\n",
        "  sample_review = re.sub(pattern='[^a-zA-Z]',repl=' ',string = sample_review)\n",
        "  sample_review = sample_review.lower()\n",
        "  sample_review_words = sample_review.split()\n",
        "  sample_review_words = [ word for word in sample_review_words if not word in set(stopwords.words('english'))]\n",
        "  final_review = [ps().stem(word) for word in sample_review_words]\n",
        "  final_review = ' '.join(final_review)\n",
        "\n",
        "  temp = cv.transform([final_review]).toarray()\n",
        "  return classifier.predict(temp)\n"
      ],
      "metadata": {
        "id": "P5i68vDH-tYl"
      },
      "execution_count": 62,
      "outputs": []
    },
    {
      "cell_type": "code",
      "source": [
        "sample_review = ['The food is really wonderful',\n",
        "                 'The food is bad and service is also not good',\n",
        "                 'Not tasty and the texture was just nasty',\n",
        "                 'Highly recommended',\n",
        "                 'The worst was the salmon sashimi']\n",
        "i=1\n",
        "for sample in sample_review:\n",
        "  if predict_sentiment(sample):\n",
        "    print(f'The review {i} is Positive')\n",
        "  else:\n",
        "    print(f'The review {i} is Negative')\n",
        "  i+=1\n"
      ],
      "metadata": {
        "colab": {
          "base_uri": "https://localhost:8080/"
        },
        "id": "8xNGvrsh-1HU",
        "outputId": "f74b7924-1497-4eba-8e12-e1dade352026"
      },
      "execution_count": 63,
      "outputs": [
        {
          "output_type": "stream",
          "name": "stdout",
          "text": [
            "The review 1 is Positive\n",
            "The review 2 is Positive\n",
            "The review 3 is Negative\n",
            "The review 4 is Positive\n",
            "The review 5 is Negative\n"
          ]
        }
      ]
    }
  ]
}